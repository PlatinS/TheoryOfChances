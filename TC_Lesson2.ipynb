{
 "cells": [
  {
   "cell_type": "markdown",
   "metadata": {},
   "source": [
    "#### 1.\tВероятность того, что стрелок попадет в мишень, выстрелив один раз, равна 0.8. Стрелок выстрелил 100 раз. Найти вероятность того, что стрелок попадет в цель ровно 85 раз."
   ]
  },
  {
   "cell_type": "code",
   "execution_count": 1,
   "metadata": {},
   "outputs": [],
   "source": [
    "from scipy.special import comb\n",
    "from math import factorial as fc\n",
    "from numpy import exp"
   ]
  },
  {
   "cell_type": "markdown",
   "metadata": {},
   "source": [
    "Рассчитаем вероятность используя формулу Бернулли: $P_n(X=k) = C_n^k p^k q^{n-k}$"
   ]
  },
  {
   "cell_type": "markdown",
   "metadata": {},
   "source": [
    "$n=100, k=85,  p=0.8,  q=1-0.8=0.2$  \n",
    "$P_{100}(X = 85) = C^{85}_{100} \\cdot 0.8^{85} \\cdot 0.2^{15}$\n"
   ]
  },
  {
   "cell_type": "code",
   "execution_count": 2,
   "metadata": {},
   "outputs": [],
   "source": [
    "P = comb(100,85)*(0.8**85)*(0.2**15)"
   ]
  },
  {
   "cell_type": "code",
   "execution_count": 3,
   "metadata": {},
   "outputs": [
    {
     "name": "stdout",
     "output_type": "stream",
     "text": [
      "Вероятность того, что стрелок попадёт в цель 85 раз: 0.048061793700746556\n"
     ]
    }
   ],
   "source": [
    "print(f'Вероятность того, что стрелок попадёт в цель 85 раз: {P}')"
   ]
  },
  {
   "cell_type": "markdown",
   "metadata": {},
   "source": [
    "#### 2.\tВероятность того, что лампочка перегорит в течение первого дня эксплуатации, равна 0.0004. В жилом комплексе после ремонта в один день включили 5000 новых лампочек. Какова вероятность, что ни одна из них не перегорит в первый день? Какова вероятность, что перегорят ровно две?"
   ]
  },
  {
   "cell_type": "markdown",
   "metadata": {},
   "source": [
    "Т.к. вероятность события крайне мала, будем решать задачу методом Пуассона.   \n",
    "   \n",
    "$$P_{m} \\approx \\frac{\\lambda^m}{m!}e^{-\\lambda}$$   \n",
    "$λ = n \\cdot p = 5000 \\cdot 0.0004 = 2$"
   ]
  },
  {
   "cell_type": "markdown",
   "metadata": {},
   "source": [
    "а) Вероятность, что ни одна лампочка не перегорит в первый день:"
   ]
  },
  {
   "cell_type": "code",
   "execution_count": 4,
   "metadata": {},
   "outputs": [
    {
     "data": {
      "text/plain": [
       "0.1353352832366127"
      ]
     },
     "execution_count": 4,
     "metadata": {},
     "output_type": "execute_result"
    }
   ],
   "source": [
    "lamb = 2\n",
    "m = 0\n",
    "P1 = (lamb**m / fc(m)) * exp(-lamb)\n",
    "P1"
   ]
  },
  {
   "cell_type": "markdown",
   "metadata": {},
   "source": [
    "б) Вероятность, что в первый день перегорят 2 лампочки:"
   ]
  },
  {
   "cell_type": "code",
   "execution_count": 5,
   "metadata": {},
   "outputs": [
    {
     "data": {
      "text/plain": [
       "0.2706705664732254"
      ]
     },
     "execution_count": 5,
     "metadata": {},
     "output_type": "execute_result"
    }
   ],
   "source": [
    "lamb = 2\n",
    "m = 2\n",
    "P2 = (lamb**m / fc(m)) * exp(-lamb)\n",
    "P2"
   ]
  },
  {
   "cell_type": "markdown",
   "metadata": {},
   "source": [
    "#### 3.\tМонету подбросили 144 раза. Какова вероятность, что орел выпадет ровно 70 раз?"
   ]
  },
  {
   "cell_type": "markdown",
   "metadata": {},
   "source": [
    "$n=144, k=70,  p=0.5,  q=1-0.5=0.5$  \n",
    "Используем формулу Бернулли:   \n",
    "$P_{144}(X = 70) = C^{70}_{144} \\cdot 0.5^{70} \\cdot 0.5^{74}$"
   ]
  },
  {
   "cell_type": "code",
   "execution_count": 6,
   "metadata": {},
   "outputs": [],
   "source": [
    "P = comb(144,70)*(0.5**70)*(0.5**74)"
   ]
  },
  {
   "cell_type": "code",
   "execution_count": 7,
   "metadata": {},
   "outputs": [
    {
     "name": "stdout",
     "output_type": "stream",
     "text": [
      "Вероятность того, что орёл выпадет 70 раз: 0.06281178035144777\n"
     ]
    }
   ],
   "source": [
    "print(f'Вероятность того, что орёл выпадет 70 раз: {P}')"
   ]
  },
  {
   "cell_type": "markdown",
   "metadata": {},
   "source": [
    "#### 4.\tВ первом ящике находится 10 мячей, из которых 7 - белые. Во втором ящике - 11 мячей, из которых 9 белых. Из каждого ящика вытаскивают случайным образом по два мяча.   \n",
    "#### а) Какова вероятность того, что все мячи белые?   "
   ]
  },
  {
   "cell_type": "markdown",
   "metadata": {},
   "source": [
    "Для первой корзины:   \n",
    "Благоприятное событие - выбрать 2 белых мяча из 7:  $\\tt C^2_{7} =\\dfrac{7!}{2! \\cdot (7-2)!}$   \n",
    "Всего возможных вариантов:  $\\tt C^2_{10} =\\dfrac{10!}{2! \\cdot (10-2)!}$"
   ]
  },
  {
   "cell_type": "markdown",
   "metadata": {},
   "source": [
    "Для второй корзины:   \n",
    "Благоприятное событие - выбрать 2 белых мяча из 9:  $\\tt C^2_{9} =\\dfrac{9!}{2! \\cdot (9-2)!}$   \n",
    "Всего возможных вариантов:  $\\tt C^2_{11} =\\dfrac{11!}{2! \\cdot (11-2)!}$"
   ]
  },
  {
   "cell_type": "code",
   "execution_count": 8,
   "metadata": {},
   "outputs": [],
   "source": [
    "P1 = comb(7,2)/comb(10,2)\n",
    "P2 = comb(9,2)/comb(11,2)\n",
    "P = P1 * P2"
   ]
  },
  {
   "cell_type": "code",
   "execution_count": 9,
   "metadata": {},
   "outputs": [
    {
     "name": "stdout",
     "output_type": "stream",
     "text": [
      "Вероятность того, что все мячи белые: 0.3054545454545455\n"
     ]
    }
   ],
   "source": [
    "print(f'Вероятность того, что все мячи белые: {P}')"
   ]
  },
  {
   "cell_type": "markdown",
   "metadata": {},
   "source": [
    "#### б) Какова вероятность того, что ровно два мяча белые?"
   ]
  },
  {
   "cell_type": "markdown",
   "metadata": {},
   "source": [
    "Всего есть три возможных варианта вынуть ровно 2 белых мяча: 0 + 2, 1 + 1, 2 + 0"
   ]
  },
  {
   "cell_type": "code",
   "execution_count": 10,
   "metadata": {},
   "outputs": [],
   "source": [
    "P1 = ((comb(7,0)*comb(3,2))/comb(10,2)) * ((comb(9,2)*comb(2,0))/comb(11,2))\n",
    "P2 = ((comb(7,1)*comb(3,1))/comb(10,2)) * ((comb(9,1)*comb(2,1))/comb(11,2))\n",
    "P3 = ((comb(7,2)*comb(3,0))/comb(10,2)) * ((comb(9,0)*comb(2,2))/comb(11,2))\n",
    "P = P1+P2+P3"
   ]
  },
  {
   "cell_type": "code",
   "execution_count": 11,
   "metadata": {},
   "outputs": [
    {
     "name": "stdout",
     "output_type": "stream",
     "text": [
      "Вероятность того, что ровно 2 мяча белые: 0.20484848484848486\n"
     ]
    }
   ],
   "source": [
    "print(f'Вероятность того, что ровно 2 мяча белые: {P}')"
   ]
  },
  {
   "cell_type": "markdown",
   "metadata": {},
   "source": [
    "#### в) Какова вероятность того, что хотя бы один мяч белый?"
   ]
  },
  {
   "cell_type": "markdown",
   "metadata": {},
   "source": [
    "Подсчитаем вероятность для обратной задачи - выбрали 4 чёрных мяча.   "
   ]
  },
  {
   "cell_type": "code",
   "execution_count": 12,
   "metadata": {},
   "outputs": [],
   "source": [
    "P_BLACK = (comb(3,2)/comb(10,2)) * (comb(2,2)/comb(11,2))\n",
    "P_WHITE = 1 - P_BLACK"
   ]
  },
  {
   "cell_type": "code",
   "execution_count": 13,
   "metadata": {},
   "outputs": [
    {
     "name": "stdout",
     "output_type": "stream",
     "text": [
      "Вероятность выбрать хотя бы 1 белый мяч: 0.9987878787878788\n"
     ]
    }
   ],
   "source": [
    "print(f'Вероятность выбрать хотя бы 1 белый мяч: {P_WHITE}')"
   ]
  },
  {
   "cell_type": "code",
   "execution_count": null,
   "metadata": {},
   "outputs": [],
   "source": []
  }
 ],
 "metadata": {
  "kernelspec": {
   "display_name": "Python 3",
   "language": "python",
   "name": "python3"
  },
  "language_info": {
   "codemirror_mode": {
    "name": "ipython",
    "version": 3
   },
   "file_extension": ".py",
   "mimetype": "text/x-python",
   "name": "python",
   "nbconvert_exporter": "python",
   "pygments_lexer": "ipython3",
   "version": "3.7.4"
  }
 },
 "nbformat": 4,
 "nbformat_minor": 2
}
