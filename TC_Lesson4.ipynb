{
 "cells": [
  {
   "cell_type": "markdown",
   "metadata": {},
   "source": [
    "#### 1.\tСлучайная непрерывная величина A имеет равномерное распределение на промежутке (200, 800].\n",
    "Найдите ее среднее значение и дисперсию.\n"
   ]
  },
  {
   "cell_type": "markdown",
   "metadata": {},
   "source": [
    "Среднее значение (математическое ожидание) равномерно распределенной непрерывной случайной величины можно вычислить по формуле: $$M(X) = \\frac{a + b}{2}$$"
   ]
  },
  {
   "cell_type": "code",
   "execution_count": 1,
   "metadata": {},
   "outputs": [],
   "source": [
    "M = (200+800)/2"
   ]
  },
  {
   "cell_type": "code",
   "execution_count": 2,
   "metadata": {},
   "outputs": [
    {
     "name": "stdout",
     "output_type": "stream",
     "text": [
      "Среднее значение = 500.0\n"
     ]
    }
   ],
   "source": [
    "print(f'Среднее значение = {M}')"
   ]
  },
  {
   "cell_type": "markdown",
   "metadata": {},
   "source": [
    "Дисперсию можно расчитать по формуле: $$D(X) = \\frac{(b - a)^2}{12}$$"
   ]
  },
  {
   "cell_type": "code",
   "execution_count": 3,
   "metadata": {},
   "outputs": [],
   "source": [
    "D = ((800-200)**2)/12"
   ]
  },
  {
   "cell_type": "code",
   "execution_count": 4,
   "metadata": {},
   "outputs": [
    {
     "name": "stdout",
     "output_type": "stream",
     "text": [
      "Дисперсия = 30000.0\n"
     ]
    }
   ],
   "source": [
    "print(f'Дисперсия = {D}')"
   ]
  },
  {
   "cell_type": "markdown",
   "metadata": {},
   "source": [
    "#### 2.\tО случайной непрерывной равномерно распределенной величине B известно, что ее дисперсия равна 0.2.\n",
    "Можно ли найти правую границу величины B и ее среднее значение зная, что левая граница равна 0.5?\n",
    "Если да, найдите ее"
   ]
  },
  {
   "cell_type": "code",
   "execution_count": 5,
   "metadata": {},
   "outputs": [],
   "source": [
    "from math import sqrt"
   ]
  },
  {
   "cell_type": "code",
   "execution_count": 6,
   "metadata": {},
   "outputs": [],
   "source": [
    "a = 0.5\n",
    "D = 0.2\n",
    "b = sqrt(12*D) + a"
   ]
  },
  {
   "cell_type": "code",
   "execution_count": 7,
   "metadata": {},
   "outputs": [
    {
     "name": "stdout",
     "output_type": "stream",
     "text": [
      "Правая граница b = 2.049193338482967\n"
     ]
    }
   ],
   "source": [
    "print(f'Правая граница b = {b}')"
   ]
  },
  {
   "cell_type": "code",
   "execution_count": 8,
   "metadata": {},
   "outputs": [],
   "source": [
    "M = (a+b)/2"
   ]
  },
  {
   "cell_type": "code",
   "execution_count": 9,
   "metadata": {},
   "outputs": [
    {
     "name": "stdout",
     "output_type": "stream",
     "text": [
      "Среднее значение = 1.2745966692414834\n"
     ]
    }
   ],
   "source": [
    "print(f'Среднее значение = {M}')"
   ]
  },
  {
   "cell_type": "markdown",
   "metadata": {},
   "source": [
    "#### 3.\tНепрерывная случайная величина X распределена нормально и задана плотностью распределения\n",
    "$$f(x) = \\frac{1}{4 \\sqrt{2 \\pi}} e ^ {- \\frac{(x + 2)^2}{32}},$$\n",
    "Найдите:   \n",
    "а). M(X)   \n",
    "б). D(X)   \n",
    "в). std(X) (среднее квадратичное отклонение)"
   ]
  },
  {
   "cell_type": "markdown",
   "metadata": {},
   "source": [
    "Используя формулу плотности вероятности нормального распределения: $$f(x) = \\frac{1}{\\sigma \\sqrt{2 \\pi}} e ^ {- \\frac{(x - a)^2}{2 \\sigma^2}}$$   получаем значения: $\\sigma = 4, \\; M(X)=a=(-2), \\;  D(X) = \\sigma^2 = 16$"
   ]
  },
  {
   "cell_type": "markdown",
   "metadata": {},
   "source": [
    "#### 4.\tРост взрослого населения города X имеет нормальное распределение.\n",
    "Причем, средний рост равен 174 см, а среднее квадратичное отклонение равно 8 см.   \n",
    "Какова вероятность того, что случайным образом выбранный взрослый человек имеет рост:   \n",
    "а). больше 182 см   \n",
    "б). больше 190 см   \n",
    "в). от 166 см до 190 см   \n",
    "г). от 166 см до 182 см   \n",
    "д). от 158 см до 190 см   \n",
    "е). не выше 150 см или не ниже 190 см   \n",
    "ё). не выше 150 см или не ниже 198 см   \n",
    "ж). ниже 166 см."
   ]
  },
  {
   "cell_type": "code",
   "execution_count": 10,
   "metadata": {},
   "outputs": [],
   "source": [
    "sigma = 8\n",
    "D = 64\n",
    "M = 174"
   ]
  },
  {
   "cell_type": "code",
   "execution_count": 11,
   "metadata": {},
   "outputs": [],
   "source": [
    "from scipy.stats import norm"
   ]
  },
  {
   "cell_type": "code",
   "execution_count": 12,
   "metadata": {},
   "outputs": [],
   "source": [
    "def L(x,a=M,s=sigma):\n",
    "    return(norm.cdf(x,a,s))  # значение функции Лапласа"
   ]
  },
  {
   "cell_type": "code",
   "execution_count": 13,
   "metadata": {},
   "outputs": [
    {
     "name": "stdout",
     "output_type": "stream",
     "text": [
      "Вероятность того, что человек имеет рост больше 182 см = 0.15865525393145707\n"
     ]
    }
   ],
   "source": [
    "print(f'Вероятность того, что человек имеет рост больше 182 см = {1-L(182)}')"
   ]
  },
  {
   "cell_type": "code",
   "execution_count": 14,
   "metadata": {},
   "outputs": [
    {
     "name": "stdout",
     "output_type": "stream",
     "text": [
      "Вероятность того, что человек имеет рост больше 190 см = 0.02275013194817921\n"
     ]
    }
   ],
   "source": [
    "print(f'Вероятность того, что человек имеет рост больше 190 см = {1-L(190)}')"
   ]
  },
  {
   "cell_type": "code",
   "execution_count": 15,
   "metadata": {},
   "outputs": [
    {
     "name": "stdout",
     "output_type": "stream",
     "text": [
      "Вероятность того, что человек имеет рост от 166 см до 190 см = 0.8185946141203637\n"
     ]
    }
   ],
   "source": [
    "print(f'Вероятность того, что человек имеет рост от 166 см до 190 см = {L(190)-L(166)}')"
   ]
  },
  {
   "cell_type": "code",
   "execution_count": 16,
   "metadata": {},
   "outputs": [
    {
     "name": "stdout",
     "output_type": "stream",
     "text": [
      "Вероятность того, что человек имеет рост от 166 см до 182 см = 0.6826894921370859\n"
     ]
    }
   ],
   "source": [
    "print(f'Вероятность того, что человек имеет рост от 166 см до 182 см = {L(182)-L(166)}')"
   ]
  },
  {
   "cell_type": "code",
   "execution_count": 17,
   "metadata": {},
   "outputs": [
    {
     "name": "stdout",
     "output_type": "stream",
     "text": [
      "Вероятность того, что человек имеет рост от 158 см до 190 см = 0.9544997361036416\n"
     ]
    }
   ],
   "source": [
    "print(f'Вероятность того, что человек имеет рост от 158 см до 190 см = {L(190)-L(158)}')"
   ]
  },
  {
   "cell_type": "code",
   "execution_count": 18,
   "metadata": {},
   "outputs": [
    {
     "name": "stdout",
     "output_type": "stream",
     "text": [
      "Вероятность того, что человек имеет рост не выше 150 см или не ниже 190 см = 0.0241000299798093\n"
     ]
    }
   ],
   "source": [
    "print(f'Вероятность того, что человек имеет рост не выше 150 см или не ниже 190 см = {L(150)+(1-L(190))}')"
   ]
  },
  {
   "cell_type": "code",
   "execution_count": 19,
   "metadata": {},
   "outputs": [
    {
     "name": "stdout",
     "output_type": "stream",
     "text": [
      "Вероятность того, что человек имеет рост не выше 150 см или не ниже 198 см = 0.0026997960632601965\n"
     ]
    }
   ],
   "source": [
    "print(f'Вероятность того, что человек имеет рост не выше 150 см или не ниже 198 см = {L(150)+(1-L(198))}')"
   ]
  },
  {
   "cell_type": "code",
   "execution_count": 20,
   "metadata": {},
   "outputs": [
    {
     "name": "stdout",
     "output_type": "stream",
     "text": [
      "Вероятность того, что человек имеет рост ниже 166 см = 0.15865525393145707\n"
     ]
    }
   ],
   "source": [
    "print(f'Вероятность того, что человек имеет рост ниже 166 см = {L(166)}')"
   ]
  },
  {
   "cell_type": "markdown",
   "metadata": {},
   "source": [
    "#### 5.\tНа сколько сигм (средних квадратичных отклонений) отклоняется рост человека, равный 190 см, от математического ожидания роста в популяции, в которой M(X) = 178 см и D(X) = 25 см?\n"
   ]
  },
  {
   "cell_type": "code",
   "execution_count": 21,
   "metadata": {},
   "outputs": [],
   "source": [
    "sigma = 5\n",
    "M = 178\n",
    "xs = (190-M)/sigma"
   ]
  },
  {
   "cell_type": "code",
   "execution_count": 23,
   "metadata": {},
   "outputs": [
    {
     "name": "stdout",
     "output_type": "stream",
     "text": [
      "Рост человека (190 см ростом) отклоняется на 2.4 сигмы от среднего роста 178 см при дисперсии 25 см\n"
     ]
    }
   ],
   "source": [
    "print(f'Рост человека (190 см ростом) отклоняется на {xs} сигмы от среднего роста 178 см при дисперсии 25 см')"
   ]
  },
  {
   "cell_type": "code",
   "execution_count": null,
   "metadata": {},
   "outputs": [],
   "source": []
  }
 ],
 "metadata": {
  "kernelspec": {
   "display_name": "Python 3",
   "language": "python",
   "name": "python3"
  },
  "language_info": {
   "codemirror_mode": {
    "name": "ipython",
    "version": 3
   },
   "file_extension": ".py",
   "mimetype": "text/x-python",
   "name": "python",
   "nbconvert_exporter": "python",
   "pygments_lexer": "ipython3",
   "version": "3.7.4"
  }
 },
 "nbformat": 4,
 "nbformat_minor": 2
}
