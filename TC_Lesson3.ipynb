{
 "cells": [
  {
   "cell_type": "code",
   "execution_count": 1,
   "metadata": {},
   "outputs": [],
   "source": [
    "import numpy as np\n",
    "from scipy.special import comb\n",
    "from math import factorial as fc"
   ]
  },
  {
   "cell_type": "markdown",
   "metadata": {},
   "source": [
    "#### 1.\tДаны значения зарплат из выборки выпускников: 100, 80, 75, 77, 89, 33, 45, 25, 65, 17, 30, 24, 57, 55, 70, 75, 65, 84, 90, 150.\n",
    "Посчитать:   \n",
    "- среднее арифметическое,   \n",
    "- среднее квадратичное отклонение,    \n",
    "- смещенную и несмещенную оценки дисперсий для данной выборки\n"
   ]
  },
  {
   "cell_type": "markdown",
   "metadata": {},
   "source": [
    "Найдём среднее арифметическое (оценку математического ожидания) выборки по формуле: $$M(X) = \\frac{1}{n} \\sum\\limits_{i=1}^{n} x_i$$"
   ]
  },
  {
   "cell_type": "code",
   "execution_count": 2,
   "metadata": {},
   "outputs": [],
   "source": [
    "salary = [100, 80, 75, 77, 89, 33, 45, 25, 65, 17, 30, 24, 57, 55, 70, 75, 65, 84, 90, 150]\n",
    "n = len(salary)\n",
    "s = sum(salary)\n",
    "m = s/n"
   ]
  },
  {
   "cell_type": "code",
   "execution_count": 3,
   "metadata": {},
   "outputs": [
    {
     "name": "stdout",
     "output_type": "stream",
     "text": [
      "Среднее арифметическое = 65.3\n"
     ]
    }
   ],
   "source": [
    "print(f'Среднее арифметическое = {m}')"
   ]
  },
  {
   "cell_type": "markdown",
   "metadata": {},
   "source": [
    "Вычислим среднее квадратичное отклонение по формуле: $$\\sigma = \\sqrt{\\frac{\\sum\\limits_{i=1}^{n} (x_i - \\overline{x})^2}{n}}$$"
   ]
  },
  {
   "cell_type": "code",
   "execution_count": 4,
   "metadata": {},
   "outputs": [],
   "source": [
    "from math import sqrt"
   ]
  },
  {
   "cell_type": "code",
   "execution_count": 5,
   "metadata": {},
   "outputs": [],
   "source": [
    "sigma = sqrt(sum((x-m)**2 for x in salary)/n)"
   ]
  },
  {
   "cell_type": "code",
   "execution_count": 6,
   "metadata": {},
   "outputs": [
    {
     "name": "stdout",
     "output_type": "stream",
     "text": [
      "Среднее квадратичное отклонение  = 30.823854398825596\n"
     ]
    }
   ],
   "source": [
    "print(f'Среднее квадратичное отклонение  = {sigma}')"
   ]
  },
  {
   "cell_type": "markdown",
   "metadata": {},
   "source": [
    "Проверим полученное значение через numpy:"
   ]
  },
  {
   "cell_type": "code",
   "execution_count": 7,
   "metadata": {},
   "outputs": [
    {
     "data": {
      "text/plain": [
       "30.823854398825596"
      ]
     },
     "execution_count": 7,
     "metadata": {},
     "output_type": "execute_result"
    }
   ],
   "source": [
    "np.std(salary)"
   ]
  },
  {
   "cell_type": "markdown",
   "metadata": {},
   "source": [
    "**Смещёная оценка дисперсии** равна среднему квадратичному отклонению, возведенному в квадрат: $$\\sigma^2 = \\frac{\\sum\\limits_{i=1}^{n} (x_i - \\overline{x})^2}{n}$$"
   ]
  },
  {
   "cell_type": "code",
   "execution_count": 8,
   "metadata": {},
   "outputs": [
    {
     "name": "stdout",
     "output_type": "stream",
     "text": [
      "Смещёная оценка дисперсии  = 950.11\n"
     ]
    }
   ],
   "source": [
    "sigma2 = sigma**2\n",
    "print(f'Смещёная оценка дисперсии  = {sigma2}')"
   ]
  },
  {
   "cell_type": "markdown",
   "metadata": {},
   "source": [
    "**Несмещённая оценка дисперсии** : $$\\sigma^2 = \\frac{\\sum\\limits_{i=1}^{n} (x_i - \\overline{x})^2}{n-1}$$"
   ]
  },
  {
   "cell_type": "code",
   "execution_count": 9,
   "metadata": {},
   "outputs": [
    {
     "name": "stdout",
     "output_type": "stream",
     "text": [
      "Несмещёная оценка дисперсии  = 1000.1157894736842\n"
     ]
    }
   ],
   "source": [
    "sigma2_ = sum((x-m)**2 for x in salary)/(n-1)\n",
    "print(f'Несмещёная оценка дисперсии  = {sigma2_}')"
   ]
  },
  {
   "cell_type": "markdown",
   "metadata": {},
   "source": [
    "Проверим полученные значение через numpy:"
   ]
  },
  {
   "cell_type": "code",
   "execution_count": 10,
   "metadata": {},
   "outputs": [
    {
     "data": {
      "text/plain": [
       "950.11"
      ]
     },
     "execution_count": 10,
     "metadata": {},
     "output_type": "execute_result"
    }
   ],
   "source": [
    "np.var(salary,ddof=0)"
   ]
  },
  {
   "cell_type": "code",
   "execution_count": 11,
   "metadata": {},
   "outputs": [
    {
     "data": {
      "text/plain": [
       "1000.1157894736842"
      ]
     },
     "execution_count": 11,
     "metadata": {},
     "output_type": "execute_result"
    }
   ],
   "source": [
    "np.var(salary,ddof=1)"
   ]
  },
  {
   "cell_type": "markdown",
   "metadata": {},
   "source": [
    "#### 2.\tВ первом ящике находится 8 мячей, из которых 5 - белые. Во втором ящике - 12 мячей, из которых 5 белых. Из первого ящика вытаскивают случайным образом два мяча, из второго - 4. Какова вероятность того, что 3 мяча белые?"
   ]
  },
  {
   "cell_type": "markdown",
   "metadata": {},
   "source": [
    "Возможные варианты выбора трёх белых мячей из двух ящиков: 0 и 3, 1 и 2, 2 и 1"
   ]
  },
  {
   "cell_type": "code",
   "execution_count": 12,
   "metadata": {},
   "outputs": [],
   "source": [
    "P1 = ((comb(5,0)*comb(3,2))/comb(8,2)) * ((comb(5,3)*comb(7,1))/comb(12,4))\n",
    "P2 = ((comb(5,1)*comb(3,1))/comb(8,2)) * ((comb(5,2)*comb(7,2))/comb(12,4))\n",
    "P3 = ((comb(5,2)*comb(3,0))/comb(8,2)) * ((comb(5,1)*comb(7,3))/comb(12,4))\n",
    "P = P1+P2+P3"
   ]
  },
  {
   "cell_type": "code",
   "execution_count": 13,
   "metadata": {},
   "outputs": [
    {
     "name": "stdout",
     "output_type": "stream",
     "text": [
      "Вероятность того, что 3 мяча белые: 0.3686868686868687\n"
     ]
    }
   ],
   "source": [
    "print(f'Вероятность того, что 3 мяча белые: {P}')"
   ]
  },
  {
   "cell_type": "markdown",
   "metadata": {},
   "source": [
    "#### 3.\tНа соревновании по биатлону один из трех спортсменов стреляет и попадает в мишень. Вероятность попадания для первого спортсмена равна 0.9, для второго — 0.8, для третьего — 0.6. \n",
    "Найти вероятность того, что выстрел произведен: \n",
    "a). первым спортсменом \n",
    "б). вторым спортсменом \n",
    "в). третьим спортсменом.\n"
   ]
  },
  {
   "cell_type": "markdown",
   "metadata": {},
   "source": [
    "Вероятность попадания для трёх биатлонистов:"
   ]
  },
  {
   "cell_type": "code",
   "execution_count": 14,
   "metadata": {},
   "outputs": [],
   "source": [
    "PN = (1/3)*0.9 + (1/3)*0.8 + (1/3)*0.6"
   ]
  },
  {
   "cell_type": "code",
   "execution_count": 15,
   "metadata": {},
   "outputs": [],
   "source": [
    "P1 = (1/3)*0.9/PN"
   ]
  },
  {
   "cell_type": "code",
   "execution_count": 16,
   "metadata": {},
   "outputs": [
    {
     "name": "stdout",
     "output_type": "stream",
     "text": [
      "Вероятность попадания для первого стрелка: 0.391304347826087\n"
     ]
    }
   ],
   "source": [
    "print(f'Вероятность попадания для первого стрелка: {P1}')"
   ]
  },
  {
   "cell_type": "code",
   "execution_count": 17,
   "metadata": {},
   "outputs": [],
   "source": [
    "P2 = (1/3)*0.8/PN"
   ]
  },
  {
   "cell_type": "code",
   "execution_count": 18,
   "metadata": {},
   "outputs": [
    {
     "name": "stdout",
     "output_type": "stream",
     "text": [
      "Вероятность попадания для второго стрелка: 0.3478260869565218\n"
     ]
    }
   ],
   "source": [
    "print(f'Вероятность попадания для второго стрелка: {P2}')"
   ]
  },
  {
   "cell_type": "code",
   "execution_count": 19,
   "metadata": {},
   "outputs": [],
   "source": [
    "P3 = (1/3)*0.6/PN"
   ]
  },
  {
   "cell_type": "code",
   "execution_count": 36,
   "metadata": {},
   "outputs": [
    {
     "name": "stdout",
     "output_type": "stream",
     "text": [
      "Вероятность попадания для третьего стрелка: 0.5454545454545455\n"
     ]
    }
   ],
   "source": [
    "print(f'Вероятность попадания для третьего стрелка: {P3}')"
   ]
  },
  {
   "cell_type": "code",
   "execution_count": 21,
   "metadata": {},
   "outputs": [
    {
     "data": {
      "text/plain": [
       "1.0"
      ]
     },
     "execution_count": 21,
     "metadata": {},
     "output_type": "execute_result"
    }
   ],
   "source": [
    "P1+P2+P3"
   ]
  },
  {
   "cell_type": "markdown",
   "metadata": {},
   "source": [
    "#### 4.\tВ университет на факультеты A и B поступило равное количество студентов, а на факультет C студентов поступило столько же, сколько на A и B вместе. Вероятность того, что студент факультета A сдаст первую сессию, равна 0.8. Для студента факультета B эта вероятность равна 0.7, а для студента факультета C - 0.9. Студент сдал первую сессию.   \n",
    "Какова вероятность, что он учится:    \n",
    "a) на факультете A   \n",
    "б) на факультете B   \n",
    "в) на факультете C ?"
   ]
  },
  {
   "cell_type": "markdown",
   "metadata": {},
   "source": [
    "Вероятность поступления на факультеты:"
   ]
  },
  {
   "cell_type": "code",
   "execution_count": 22,
   "metadata": {},
   "outputs": [],
   "source": [
    "PA = PB = 0.25\n",
    "PC = PA + PB"
   ]
  },
  {
   "cell_type": "code",
   "execution_count": 23,
   "metadata": {},
   "outputs": [
    {
     "name": "stdout",
     "output_type": "stream",
     "text": [
      "Вероятность поступления на факультет А: 0.25\n",
      "Вероятность поступления на факультет B: 0.25\n",
      "Вероятность поступления на факультет C: 0.5\n"
     ]
    }
   ],
   "source": [
    "print(f'Вероятность поступления на факультет А: {PA}')\n",
    "print(f'Вероятность поступления на факультет B: {PB}')\n",
    "print(f'Вероятность поступления на факультет C: {PC}')"
   ]
  },
  {
   "cell_type": "markdown",
   "metadata": {},
   "source": [
    "Вероятность сдачи сессии:"
   ]
  },
  {
   "cell_type": "code",
   "execution_count": 24,
   "metadata": {},
   "outputs": [
    {
     "data": {
      "text/plain": [
       "0.825"
      ]
     },
     "execution_count": 24,
     "metadata": {},
     "output_type": "execute_result"
    }
   ],
   "source": [
    "PS = PA*0.8 + PB*0.7 + PC*0.9\n",
    "PS"
   ]
  },
  {
   "cell_type": "code",
   "execution_count": 25,
   "metadata": {},
   "outputs": [
    {
     "name": "stdout",
     "output_type": "stream",
     "text": [
      "Вероятность того, что студент учится на факультете А: 0.24242424242424246\n"
     ]
    }
   ],
   "source": [
    "P1 = PA*0.8/PS\n",
    "print(f'Вероятность того, что студент учится на факультете А: {P1}')"
   ]
  },
  {
   "cell_type": "code",
   "execution_count": 26,
   "metadata": {},
   "outputs": [
    {
     "name": "stdout",
     "output_type": "stream",
     "text": [
      "Вероятность того, что студент учится на факультете B: 0.21212121212121213\n"
     ]
    }
   ],
   "source": [
    "P2 = PB*0.7/PS\n",
    "print(f'Вероятность того, что студент учится на факультете B: {P2}')"
   ]
  },
  {
   "cell_type": "code",
   "execution_count": 27,
   "metadata": {},
   "outputs": [
    {
     "name": "stdout",
     "output_type": "stream",
     "text": [
      "Вероятность того, что студент учится на факультете C: 0.5454545454545455\n"
     ]
    }
   ],
   "source": [
    "P3 = PC*0.9/PS\n",
    "print(f'Вероятность того, что студент учится на факультете C: {P3}')"
   ]
  },
  {
   "cell_type": "code",
   "execution_count": 28,
   "metadata": {},
   "outputs": [
    {
     "data": {
      "text/plain": [
       "1.0"
      ]
     },
     "execution_count": 28,
     "metadata": {},
     "output_type": "execute_result"
    }
   ],
   "source": [
    "P1+P2+P3"
   ]
  },
  {
   "cell_type": "markdown",
   "metadata": {},
   "source": [
    "#### 5.\tУстройство состоит из трех деталей. Для первой детали вероятность выйти из строя в первый месяц равна 0.1, для второй - 0.2, для третьей - 0.25.    \n",
    "Какова вероятность того, что в первый месяц выйдут из строя:    \n",
    "а) все детали   \n",
    "б) только две детали   \n",
    "в) хотя бы одна деталь   \n",
    "г) от одной до двух деталей ?"
   ]
  },
  {
   "cell_type": "code",
   "execution_count": 29,
   "metadata": {},
   "outputs": [],
   "source": [
    "p1 = 0.1    # Выйдет из строя\n",
    "p2 = 0.2\n",
    "p3 = 0.25\n",
    "q1 = 1 - p1 # Не выйдет из строя\n",
    "q2 = 1 - p2\n",
    "q3 = 1 - p3"
   ]
  },
  {
   "cell_type": "code",
   "execution_count": 30,
   "metadata": {},
   "outputs": [
    {
     "name": "stdout",
     "output_type": "stream",
     "text": [
      "Вероятность того, что все детали выйдут из строя: 0.00500\n"
     ]
    }
   ],
   "source": [
    "print(f'Вероятность того, что все детали выйдут из строя: {p1*p2*p3:#.3}')"
   ]
  },
  {
   "cell_type": "code",
   "execution_count": 31,
   "metadata": {},
   "outputs": [
    {
     "name": "stdout",
     "output_type": "stream",
     "text": [
      "Вероятность того, что выйдут из строя только 2 детали: 0.08000\n"
     ]
    }
   ],
   "source": [
    "P2D = p1*p2*q3 + p1*q2*p3 + q1*p2*p3\n",
    "print(f'Вероятность того, что выйдут из строя только 2 детали: {P2D:#.4}')"
   ]
  },
  {
   "cell_type": "code",
   "execution_count": 32,
   "metadata": {},
   "outputs": [
    {
     "name": "stdout",
     "output_type": "stream",
     "text": [
      "Вероятность того, что выйдет из строя хотя бы 1 деталь: 0.4600\n"
     ]
    }
   ],
   "source": [
    "P1D = 1 - q1*q2*q3\n",
    "print(f'Вероятность того, что выйдет из строя хотя бы 1 деталь: {P1D:#.4}')"
   ]
  },
  {
   "cell_type": "code",
   "execution_count": 37,
   "metadata": {},
   "outputs": [],
   "source": [
    "P121 = p1*q2*q3 + q1*p2*q3 + q1*q2*p3  # выйдет из строя одна деталь\n",
    "P122 = p1*p2*q3 + p1*q2*p3 + q1*p2*p3  # выйдет из строя 2 детали"
   ]
  },
  {
   "cell_type": "code",
   "execution_count": 38,
   "metadata": {},
   "outputs": [
    {
     "name": "stdout",
     "output_type": "stream",
     "text": [
      "Вероятность того, что выйдут из строя от одной до двух деталей: 0.4550\n"
     ]
    }
   ],
   "source": [
    "print(f'Вероятность того, что выйдут из строя от одной до двух деталей: {P121+P122:#.4}')"
   ]
  },
  {
   "cell_type": "code",
   "execution_count": null,
   "metadata": {},
   "outputs": [],
   "source": []
  }
 ],
 "metadata": {
  "kernelspec": {
   "display_name": "Python 3",
   "language": "python",
   "name": "python3"
  },
  "language_info": {
   "codemirror_mode": {
    "name": "ipython",
    "version": 3
   },
   "file_extension": ".py",
   "mimetype": "text/x-python",
   "name": "python",
   "nbconvert_exporter": "python",
   "pygments_lexer": "ipython3",
   "version": "3.7.4"
  }
 },
 "nbformat": 4,
 "nbformat_minor": 2
}
