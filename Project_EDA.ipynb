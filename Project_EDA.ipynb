{
 "cells": [
  {
   "cell_type": "markdown",
   "metadata": {},
   "source": [
    "## Exploratory Data Analysis (разведочный анализ данных) базы фильмов IMDb"
   ]
  },
  {
   "cell_type": "code",
   "execution_count": 1,
   "metadata": {},
   "outputs": [],
   "source": [
    "import pandas as pd\n",
    "import numpy as np\n",
    "import matplotlib\n",
    "import matplotlib.pyplot as plt\n",
    "import matplotlib.ticker as ticker\n",
    "import seaborn as sns\n",
    "%matplotlib inline\n",
    "matplotlib.rcParams.update({'font.size': 12})"
   ]
  },
  {
   "cell_type": "code",
   "execution_count": 2,
   "metadata": {},
   "outputs": [
    {
     "name": "stdout",
     "output_type": "stream",
     "text": [
      "pandas    :  0.25.1\n",
      "numpy     :  1.17.3\n",
      "matplotlib:  3.1.1\n",
      "seaborn   :  0.9.0\n"
     ]
    }
   ],
   "source": [
    "print('pandas    : ',pd.__version__)\n",
    "print('numpy     : ',np.__version__)\n",
    "print('matplotlib: ',matplotlib.__version__)\n",
    "print('seaborn   : ',sns.__version__)"
   ]
  },
  {
   "cell_type": "code",
   "execution_count": 3,
   "metadata": {},
   "outputs": [],
   "source": [
    "%matplotlib inline\n",
    "matplotlib.rcParams.update({'font.size': 12})"
   ]
  },
  {
   "cell_type": "markdown",
   "metadata": {},
   "source": [
    "#### Из большой базы данных фильмов https://datasets.imdbws.com/ были выбраны фильмы с 1950 по 2020 год выпуска и имеющие тип 'movie',  'tvMovie' и 'video'"
   ]
  },
  {
   "cell_type": "code",
   "execution_count": 4,
   "metadata": {},
   "outputs": [],
   "source": [
    "df = pd.read_csv(\"data_films.csv\")"
   ]
  },
  {
   "cell_type": "code",
   "execution_count": 5,
   "metadata": {},
   "outputs": [
    {
     "data": {
      "text/plain": [
       "(310234, 7)"
      ]
     },
     "execution_count": 5,
     "metadata": {},
     "output_type": "execute_result"
    }
   ],
   "source": [
    "df.shape"
   ]
  },
  {
   "cell_type": "code",
   "execution_count": 6,
   "metadata": {},
   "outputs": [
    {
     "name": "stdout",
     "output_type": "stream",
     "text": [
      "<class 'pandas.core.frame.DataFrame'>\n",
      "RangeIndex: 310234 entries, 0 to 310233\n",
      "Data columns (total 7 columns):\n",
      "tconst           310234 non-null object\n",
      "titleType        310234 non-null object\n",
      "primaryTitle     310234 non-null object\n",
      "startYear        310234 non-null int64\n",
      "genres           310234 non-null object\n",
      "averageRating    310234 non-null float64\n",
      "numVotes         310234 non-null float64\n",
      "dtypes: float64(2), int64(1), object(4)\n",
      "memory usage: 16.6+ MB\n"
     ]
    }
   ],
   "source": [
    "df.info()"
   ]
  },
  {
   "cell_type": "code",
   "execution_count": 7,
   "metadata": {},
   "outputs": [
    {
     "data": {
      "text/html": [
       "<div>\n",
       "<style scoped>\n",
       "    .dataframe tbody tr th:only-of-type {\n",
       "        vertical-align: middle;\n",
       "    }\n",
       "\n",
       "    .dataframe tbody tr th {\n",
       "        vertical-align: top;\n",
       "    }\n",
       "\n",
       "    .dataframe thead th {\n",
       "        text-align: right;\n",
       "    }\n",
       "</style>\n",
       "<table border=\"1\" class=\"dataframe\">\n",
       "  <thead>\n",
       "    <tr style=\"text-align: right;\">\n",
       "      <th></th>\n",
       "      <th>tconst</th>\n",
       "      <th>titleType</th>\n",
       "      <th>primaryTitle</th>\n",
       "      <th>startYear</th>\n",
       "      <th>genres</th>\n",
       "      <th>averageRating</th>\n",
       "      <th>numVotes</th>\n",
       "    </tr>\n",
       "  </thead>\n",
       "  <tbody>\n",
       "    <tr>\n",
       "      <td>0</td>\n",
       "      <td>tt0015724</td>\n",
       "      <td>movie</td>\n",
       "      <td>Dama de noche</td>\n",
       "      <td>1993</td>\n",
       "      <td>Drama,Mystery,Romance</td>\n",
       "      <td>6.2</td>\n",
       "      <td>20.0</td>\n",
       "    </tr>\n",
       "    <tr>\n",
       "      <td>1</td>\n",
       "      <td>tt0016906</td>\n",
       "      <td>movie</td>\n",
       "      <td>Frivolinas</td>\n",
       "      <td>2014</td>\n",
       "      <td>Comedy,Musical</td>\n",
       "      <td>5.6</td>\n",
       "      <td>14.0</td>\n",
       "    </tr>\n",
       "    <tr>\n",
       "      <td>2</td>\n",
       "      <td>tt0021617</td>\n",
       "      <td>movie</td>\n",
       "      <td>Arizona Territory</td>\n",
       "      <td>1950</td>\n",
       "      <td>Action,Adventure,Western</td>\n",
       "      <td>5.8</td>\n",
       "      <td>22.0</td>\n",
       "    </tr>\n",
       "    <tr>\n",
       "      <td>3</td>\n",
       "      <td>tt0022064</td>\n",
       "      <td>movie</td>\n",
       "      <td>Lebbra bianca</td>\n",
       "      <td>1951</td>\n",
       "      <td>Drama</td>\n",
       "      <td>4.7</td>\n",
       "      <td>12.0</td>\n",
       "    </tr>\n",
       "    <tr>\n",
       "      <td>4</td>\n",
       "      <td>tt0023331</td>\n",
       "      <td>movie</td>\n",
       "      <td>Pesn o geroyakh</td>\n",
       "      <td>1983</td>\n",
       "      <td>Documentary</td>\n",
       "      <td>6.8</td>\n",
       "      <td>69.0</td>\n",
       "    </tr>\n",
       "  </tbody>\n",
       "</table>\n",
       "</div>"
      ],
      "text/plain": [
       "      tconst titleType       primaryTitle  startYear  \\\n",
       "0  tt0015724     movie      Dama de noche       1993   \n",
       "1  tt0016906     movie         Frivolinas       2014   \n",
       "2  tt0021617     movie  Arizona Territory       1950   \n",
       "3  tt0022064     movie      Lebbra bianca       1951   \n",
       "4  tt0023331     movie    Pesn o geroyakh       1983   \n",
       "\n",
       "                     genres  averageRating  numVotes  \n",
       "0     Drama,Mystery,Romance            6.2      20.0  \n",
       "1            Comedy,Musical            5.6      14.0  \n",
       "2  Action,Adventure,Western            5.8      22.0  \n",
       "3                     Drama            4.7      12.0  \n",
       "4               Documentary            6.8      69.0  "
      ]
     },
     "execution_count": 7,
     "metadata": {},
     "output_type": "execute_result"
    }
   ],
   "source": [
    "df.head()"
   ]
  },
  {
   "cell_type": "markdown",
   "metadata": {},
   "source": [
    "#### Проверим - есть ли в данных пропущенные или нулевые значения"
   ]
  },
  {
   "cell_type": "code",
   "execution_count": 8,
   "metadata": {},
   "outputs": [
    {
     "data": {
      "text/plain": [
       "tconst           0\n",
       "titleType        0\n",
       "primaryTitle     0\n",
       "startYear        0\n",
       "genres           0\n",
       "averageRating    0\n",
       "numVotes         0\n",
       "dtype: int64"
      ]
     },
     "execution_count": 8,
     "metadata": {},
     "output_type": "execute_result"
    }
   ],
   "source": [
    "df.isnull().sum()"
   ]
  },
  {
   "cell_type": "code",
   "execution_count": 9,
   "metadata": {},
   "outputs": [],
   "source": [
    "import warnings\n",
    "warnings.filterwarnings('ignore')"
   ]
  },
  {
   "cell_type": "markdown",
   "metadata": {},
   "source": [
    "#### Разделим жанры в колонке \"genres\" на отдельные колонки для удобства анализа"
   ]
  },
  {
   "cell_type": "code",
   "execution_count": 10,
   "metadata": {},
   "outputs": [],
   "source": [
    "df['gen1']=df['genres'].str.split(',').str.get(0)\n",
    "df['gen2']=df['genres'].str.split(',').str.get(1)\n",
    "df['gen3']=df['genres'].str.split(',').str.get(2)"
   ]
  },
  {
   "cell_type": "code",
   "execution_count": 11,
   "metadata": {},
   "outputs": [
    {
     "data": {
      "text/html": [
       "<div>\n",
       "<style scoped>\n",
       "    .dataframe tbody tr th:only-of-type {\n",
       "        vertical-align: middle;\n",
       "    }\n",
       "\n",
       "    .dataframe tbody tr th {\n",
       "        vertical-align: top;\n",
       "    }\n",
       "\n",
       "    .dataframe thead th {\n",
       "        text-align: right;\n",
       "    }\n",
       "</style>\n",
       "<table border=\"1\" class=\"dataframe\">\n",
       "  <thead>\n",
       "    <tr style=\"text-align: right;\">\n",
       "      <th></th>\n",
       "      <th>tconst</th>\n",
       "      <th>titleType</th>\n",
       "      <th>primaryTitle</th>\n",
       "      <th>startYear</th>\n",
       "      <th>genres</th>\n",
       "      <th>averageRating</th>\n",
       "      <th>numVotes</th>\n",
       "      <th>gen1</th>\n",
       "      <th>gen2</th>\n",
       "      <th>gen3</th>\n",
       "    </tr>\n",
       "  </thead>\n",
       "  <tbody>\n",
       "    <tr>\n",
       "      <td>0</td>\n",
       "      <td>tt0015724</td>\n",
       "      <td>movie</td>\n",
       "      <td>Dama de noche</td>\n",
       "      <td>1993</td>\n",
       "      <td>Drama,Mystery,Romance</td>\n",
       "      <td>6.2</td>\n",
       "      <td>20.0</td>\n",
       "      <td>Drama</td>\n",
       "      <td>Mystery</td>\n",
       "      <td>Romance</td>\n",
       "    </tr>\n",
       "    <tr>\n",
       "      <td>1</td>\n",
       "      <td>tt0016906</td>\n",
       "      <td>movie</td>\n",
       "      <td>Frivolinas</td>\n",
       "      <td>2014</td>\n",
       "      <td>Comedy,Musical</td>\n",
       "      <td>5.6</td>\n",
       "      <td>14.0</td>\n",
       "      <td>Comedy</td>\n",
       "      <td>Musical</td>\n",
       "      <td>NaN</td>\n",
       "    </tr>\n",
       "    <tr>\n",
       "      <td>2</td>\n",
       "      <td>tt0021617</td>\n",
       "      <td>movie</td>\n",
       "      <td>Arizona Territory</td>\n",
       "      <td>1950</td>\n",
       "      <td>Action,Adventure,Western</td>\n",
       "      <td>5.8</td>\n",
       "      <td>22.0</td>\n",
       "      <td>Action</td>\n",
       "      <td>Adventure</td>\n",
       "      <td>Western</td>\n",
       "    </tr>\n",
       "    <tr>\n",
       "      <td>3</td>\n",
       "      <td>tt0022064</td>\n",
       "      <td>movie</td>\n",
       "      <td>Lebbra bianca</td>\n",
       "      <td>1951</td>\n",
       "      <td>Drama</td>\n",
       "      <td>4.7</td>\n",
       "      <td>12.0</td>\n",
       "      <td>Drama</td>\n",
       "      <td>NaN</td>\n",
       "      <td>NaN</td>\n",
       "    </tr>\n",
       "    <tr>\n",
       "      <td>4</td>\n",
       "      <td>tt0023331</td>\n",
       "      <td>movie</td>\n",
       "      <td>Pesn o geroyakh</td>\n",
       "      <td>1983</td>\n",
       "      <td>Documentary</td>\n",
       "      <td>6.8</td>\n",
       "      <td>69.0</td>\n",
       "      <td>Documentary</td>\n",
       "      <td>NaN</td>\n",
       "      <td>NaN</td>\n",
       "    </tr>\n",
       "  </tbody>\n",
       "</table>\n",
       "</div>"
      ],
      "text/plain": [
       "      tconst titleType       primaryTitle  startYear  \\\n",
       "0  tt0015724     movie      Dama de noche       1993   \n",
       "1  tt0016906     movie         Frivolinas       2014   \n",
       "2  tt0021617     movie  Arizona Territory       1950   \n",
       "3  tt0022064     movie      Lebbra bianca       1951   \n",
       "4  tt0023331     movie    Pesn o geroyakh       1983   \n",
       "\n",
       "                     genres  averageRating  numVotes         gen1       gen2  \\\n",
       "0     Drama,Mystery,Romance            6.2      20.0        Drama    Mystery   \n",
       "1            Comedy,Musical            5.6      14.0       Comedy    Musical   \n",
       "2  Action,Adventure,Western            5.8      22.0       Action  Adventure   \n",
       "3                     Drama            4.7      12.0        Drama        NaN   \n",
       "4               Documentary            6.8      69.0  Documentary        NaN   \n",
       "\n",
       "      gen3  \n",
       "0  Romance  \n",
       "1      NaN  \n",
       "2  Western  \n",
       "3      NaN  \n",
       "4      NaN  "
      ]
     },
     "execution_count": 11,
     "metadata": {},
     "output_type": "execute_result"
    }
   ],
   "source": [
    "df.head()"
   ]
  },
  {
   "cell_type": "markdown",
   "metadata": {},
   "source": [
    "#### Будем считать, что жанр фильма, который упоминается первым в списке, является основным жанром фильма"
   ]
  },
  {
   "cell_type": "markdown",
   "metadata": {},
   "source": [
    "#### Какие у нас есть уникальные жанры ?"
   ]
  },
  {
   "cell_type": "code",
   "execution_count": 12,
   "metadata": {},
   "outputs": [
    {
     "data": {
      "text/plain": [
       "array(['Drama', 'Comedy', 'Action', 'Documentary', 'Biography', 'Crime',\n",
       "       'Adventure', 'Western', 'Fantasy', 'Musical', 'Sci-Fi', 'Romance',\n",
       "       'Thriller', 'Animation', 'Film-Noir', 'Horror', 'History', 'Music',\n",
       "       'Family', 'War', 'Mystery', 'Adult', 'Sport', 'Short',\n",
       "       'Reality-TV', 'Game-Show', 'News', 'Talk-Show'], dtype=object)"
      ]
     },
     "execution_count": 12,
     "metadata": {},
     "output_type": "execute_result"
    }
   ],
   "source": [
    "all_genres = df.gen1.unique()\n",
    "all_genres"
   ]
  },
  {
   "cell_type": "markdown",
   "metadata": {},
   "source": [
    "#### Отсортируем их по частоте"
   ]
  },
  {
   "cell_type": "code",
   "execution_count": 13,
   "metadata": {},
   "outputs": [
    {
     "data": {
      "text/plain": [
       "Drama          73894\n",
       "Comedy         60736\n",
       "Documentary    47789\n",
       "Action         28290\n",
       "Adult          17050\n",
       "Crime          12921\n",
       "Music          12394\n",
       "Horror         11740\n",
       "Adventure      10097\n",
       "Biography       8618\n",
       "Animation       5026\n",
       "Thriller        4623\n",
       "Romance         3065\n",
       "Family          3063\n",
       "Short           2024\n",
       "Fantasy         1789\n",
       "Sci-Fi          1469\n",
       "Mystery         1452\n",
       "Musical         1169\n",
       "Western         1145\n",
       "History          601\n",
       "Sport            568\n",
       "War              411\n",
       "Reality-TV       118\n",
       "News             113\n",
       "Talk-Show         51\n",
       "Game-Show          9\n",
       "Film-Noir          9\n",
       "Name: gen1, dtype: int64"
      ]
     },
     "execution_count": 13,
     "metadata": {},
     "output_type": "execute_result"
    }
   ],
   "source": [
    "df['gen1'].value_counts()"
   ]
  },
  {
   "cell_type": "code",
   "execution_count": 14,
   "metadata": {},
   "outputs": [],
   "source": [
    "GY = pd.DataFrame() # Жанры фильмов по году выпуска фильма\n",
    "for i in range(21):\n",
    "    dft = df[df['gen1'].str.contains(all_genres[i])]  \n",
    "    GY[all_genres[i]] = dft.groupby(['startYear']).genres.count()"
   ]
  },
  {
   "cell_type": "code",
   "execution_count": 15,
   "metadata": {},
   "outputs": [
    {
     "data": {
      "text/html": [
       "<div>\n",
       "<style scoped>\n",
       "    .dataframe tbody tr th:only-of-type {\n",
       "        vertical-align: middle;\n",
       "    }\n",
       "\n",
       "    .dataframe tbody tr th {\n",
       "        vertical-align: top;\n",
       "    }\n",
       "\n",
       "    .dataframe thead th {\n",
       "        text-align: right;\n",
       "    }\n",
       "</style>\n",
       "<table border=\"1\" class=\"dataframe\">\n",
       "  <thead>\n",
       "    <tr style=\"text-align: right;\">\n",
       "      <th>startYear</th>\n",
       "      <th>1950</th>\n",
       "      <th>1951</th>\n",
       "      <th>1952</th>\n",
       "      <th>1953</th>\n",
       "      <th>1954</th>\n",
       "      <th>1955</th>\n",
       "      <th>1956</th>\n",
       "      <th>1957</th>\n",
       "      <th>1958</th>\n",
       "      <th>1959</th>\n",
       "      <th>1960</th>\n",
       "      <th>1961</th>\n",
       "      <th>1962</th>\n",
       "      <th>1963</th>\n",
       "      <th>1964</th>\n",
       "      <th>1965</th>\n",
       "    </tr>\n",
       "  </thead>\n",
       "  <tbody>\n",
       "    <tr>\n",
       "      <td>Drama</td>\n",
       "      <td>313.0</td>\n",
       "      <td>335.0</td>\n",
       "      <td>292.0</td>\n",
       "      <td>345.0</td>\n",
       "      <td>384.0</td>\n",
       "      <td>376.0</td>\n",
       "      <td>413.0</td>\n",
       "      <td>472.0</td>\n",
       "      <td>460.0</td>\n",
       "      <td>472.0</td>\n",
       "      <td>491.0</td>\n",
       "      <td>558.0</td>\n",
       "      <td>539.0</td>\n",
       "      <td>522.0</td>\n",
       "      <td>573.0</td>\n",
       "      <td>609.0</td>\n",
       "    </tr>\n",
       "    <tr>\n",
       "      <td>Comedy</td>\n",
       "      <td>249.0</td>\n",
       "      <td>277.0</td>\n",
       "      <td>311.0</td>\n",
       "      <td>319.0</td>\n",
       "      <td>308.0</td>\n",
       "      <td>328.0</td>\n",
       "      <td>335.0</td>\n",
       "      <td>355.0</td>\n",
       "      <td>387.0</td>\n",
       "      <td>391.0</td>\n",
       "      <td>415.0</td>\n",
       "      <td>412.0</td>\n",
       "      <td>446.0</td>\n",
       "      <td>444.0</td>\n",
       "      <td>483.0</td>\n",
       "      <td>440.0</td>\n",
       "    </tr>\n",
       "    <tr>\n",
       "      <td>Action</td>\n",
       "      <td>126.0</td>\n",
       "      <td>84.0</td>\n",
       "      <td>94.0</td>\n",
       "      <td>85.0</td>\n",
       "      <td>74.0</td>\n",
       "      <td>66.0</td>\n",
       "      <td>70.0</td>\n",
       "      <td>95.0</td>\n",
       "      <td>68.0</td>\n",
       "      <td>78.0</td>\n",
       "      <td>93.0</td>\n",
       "      <td>87.0</td>\n",
       "      <td>102.0</td>\n",
       "      <td>98.0</td>\n",
       "      <td>128.0</td>\n",
       "      <td>131.0</td>\n",
       "    </tr>\n",
       "    <tr>\n",
       "      <td>Documentary</td>\n",
       "      <td>19.0</td>\n",
       "      <td>22.0</td>\n",
       "      <td>18.0</td>\n",
       "      <td>23.0</td>\n",
       "      <td>27.0</td>\n",
       "      <td>22.0</td>\n",
       "      <td>23.0</td>\n",
       "      <td>19.0</td>\n",
       "      <td>19.0</td>\n",
       "      <td>28.0</td>\n",
       "      <td>30.0</td>\n",
       "      <td>40.0</td>\n",
       "      <td>43.0</td>\n",
       "      <td>62.0</td>\n",
       "      <td>47.0</td>\n",
       "      <td>60.0</td>\n",
       "    </tr>\n",
       "    <tr>\n",
       "      <td>Biography</td>\n",
       "      <td>16.0</td>\n",
       "      <td>17.0</td>\n",
       "      <td>31.0</td>\n",
       "      <td>27.0</td>\n",
       "      <td>23.0</td>\n",
       "      <td>30.0</td>\n",
       "      <td>20.0</td>\n",
       "      <td>28.0</td>\n",
       "      <td>19.0</td>\n",
       "      <td>21.0</td>\n",
       "      <td>25.0</td>\n",
       "      <td>22.0</td>\n",
       "      <td>19.0</td>\n",
       "      <td>15.0</td>\n",
       "      <td>17.0</td>\n",
       "      <td>27.0</td>\n",
       "    </tr>\n",
       "    <tr>\n",
       "      <td>Crime</td>\n",
       "      <td>134.0</td>\n",
       "      <td>109.0</td>\n",
       "      <td>90.0</td>\n",
       "      <td>93.0</td>\n",
       "      <td>108.0</td>\n",
       "      <td>119.0</td>\n",
       "      <td>115.0</td>\n",
       "      <td>144.0</td>\n",
       "      <td>123.0</td>\n",
       "      <td>116.0</td>\n",
       "      <td>152.0</td>\n",
       "      <td>119.0</td>\n",
       "      <td>107.0</td>\n",
       "      <td>102.0</td>\n",
       "      <td>115.0</td>\n",
       "      <td>75.0</td>\n",
       "    </tr>\n",
       "    <tr>\n",
       "      <td>Adventure</td>\n",
       "      <td>63.0</td>\n",
       "      <td>69.0</td>\n",
       "      <td>75.0</td>\n",
       "      <td>89.0</td>\n",
       "      <td>108.0</td>\n",
       "      <td>98.0</td>\n",
       "      <td>80.0</td>\n",
       "      <td>77.0</td>\n",
       "      <td>96.0</td>\n",
       "      <td>90.0</td>\n",
       "      <td>70.0</td>\n",
       "      <td>105.0</td>\n",
       "      <td>111.0</td>\n",
       "      <td>97.0</td>\n",
       "      <td>116.0</td>\n",
       "      <td>134.0</td>\n",
       "    </tr>\n",
       "    <tr>\n",
       "      <td>Western</td>\n",
       "      <td>26.0</td>\n",
       "      <td>48.0</td>\n",
       "      <td>47.0</td>\n",
       "      <td>45.0</td>\n",
       "      <td>26.0</td>\n",
       "      <td>27.0</td>\n",
       "      <td>31.0</td>\n",
       "      <td>34.0</td>\n",
       "      <td>33.0</td>\n",
       "      <td>18.0</td>\n",
       "      <td>12.0</td>\n",
       "      <td>14.0</td>\n",
       "      <td>10.0</td>\n",
       "      <td>11.0</td>\n",
       "      <td>35.0</td>\n",
       "      <td>45.0</td>\n",
       "    </tr>\n",
       "    <tr>\n",
       "      <td>Fantasy</td>\n",
       "      <td>3.0</td>\n",
       "      <td>2.0</td>\n",
       "      <td>1.0</td>\n",
       "      <td>2.0</td>\n",
       "      <td>4.0</td>\n",
       "      <td>6.0</td>\n",
       "      <td>5.0</td>\n",
       "      <td>8.0</td>\n",
       "      <td>3.0</td>\n",
       "      <td>5.0</td>\n",
       "      <td>7.0</td>\n",
       "      <td>8.0</td>\n",
       "      <td>5.0</td>\n",
       "      <td>8.0</td>\n",
       "      <td>11.0</td>\n",
       "      <td>13.0</td>\n",
       "    </tr>\n",
       "    <tr>\n",
       "      <td>Musical</td>\n",
       "      <td>18.0</td>\n",
       "      <td>15.0</td>\n",
       "      <td>10.0</td>\n",
       "      <td>18.0</td>\n",
       "      <td>18.0</td>\n",
       "      <td>18.0</td>\n",
       "      <td>19.0</td>\n",
       "      <td>12.0</td>\n",
       "      <td>20.0</td>\n",
       "      <td>21.0</td>\n",
       "      <td>18.0</td>\n",
       "      <td>8.0</td>\n",
       "      <td>9.0</td>\n",
       "      <td>13.0</td>\n",
       "      <td>25.0</td>\n",
       "      <td>24.0</td>\n",
       "    </tr>\n",
       "    <tr>\n",
       "      <td>Sci-Fi</td>\n",
       "      <td>3.0</td>\n",
       "      <td>1.0</td>\n",
       "      <td>2.0</td>\n",
       "      <td>4.0</td>\n",
       "      <td>4.0</td>\n",
       "      <td>2.0</td>\n",
       "      <td>10.0</td>\n",
       "      <td>4.0</td>\n",
       "      <td>8.0</td>\n",
       "      <td>7.0</td>\n",
       "      <td>5.0</td>\n",
       "      <td>2.0</td>\n",
       "      <td>7.0</td>\n",
       "      <td>6.0</td>\n",
       "      <td>2.0</td>\n",
       "      <td>13.0</td>\n",
       "    </tr>\n",
       "    <tr>\n",
       "      <td>Romance</td>\n",
       "      <td>10.0</td>\n",
       "      <td>5.0</td>\n",
       "      <td>3.0</td>\n",
       "      <td>11.0</td>\n",
       "      <td>17.0</td>\n",
       "      <td>14.0</td>\n",
       "      <td>19.0</td>\n",
       "      <td>18.0</td>\n",
       "      <td>15.0</td>\n",
       "      <td>20.0</td>\n",
       "      <td>10.0</td>\n",
       "      <td>25.0</td>\n",
       "      <td>26.0</td>\n",
       "      <td>11.0</td>\n",
       "      <td>21.0</td>\n",
       "      <td>27.0</td>\n",
       "    </tr>\n",
       "    <tr>\n",
       "      <td>Thriller</td>\n",
       "      <td>1.0</td>\n",
       "      <td>3.0</td>\n",
       "      <td>6.0</td>\n",
       "      <td>2.0</td>\n",
       "      <td>2.0</td>\n",
       "      <td>2.0</td>\n",
       "      <td>5.0</td>\n",
       "      <td>8.0</td>\n",
       "      <td>3.0</td>\n",
       "      <td>9.0</td>\n",
       "      <td>7.0</td>\n",
       "      <td>11.0</td>\n",
       "      <td>9.0</td>\n",
       "      <td>14.0</td>\n",
       "      <td>11.0</td>\n",
       "      <td>10.0</td>\n",
       "    </tr>\n",
       "    <tr>\n",
       "      <td>Animation</td>\n",
       "      <td>3.0</td>\n",
       "      <td>2.0</td>\n",
       "      <td>3.0</td>\n",
       "      <td>4.0</td>\n",
       "      <td>2.0</td>\n",
       "      <td>4.0</td>\n",
       "      <td>6.0</td>\n",
       "      <td>3.0</td>\n",
       "      <td>3.0</td>\n",
       "      <td>5.0</td>\n",
       "      <td>3.0</td>\n",
       "      <td>6.0</td>\n",
       "      <td>12.0</td>\n",
       "      <td>2.0</td>\n",
       "      <td>5.0</td>\n",
       "      <td>10.0</td>\n",
       "    </tr>\n",
       "    <tr>\n",
       "      <td>Film-Noir</td>\n",
       "      <td>2.0</td>\n",
       "      <td>2.0</td>\n",
       "      <td>1.0</td>\n",
       "      <td>1.0</td>\n",
       "      <td>NaN</td>\n",
       "      <td>2.0</td>\n",
       "      <td>1.0</td>\n",
       "      <td>NaN</td>\n",
       "      <td>NaN</td>\n",
       "      <td>NaN</td>\n",
       "      <td>NaN</td>\n",
       "      <td>NaN</td>\n",
       "      <td>NaN</td>\n",
       "      <td>NaN</td>\n",
       "      <td>NaN</td>\n",
       "      <td>NaN</td>\n",
       "    </tr>\n",
       "    <tr>\n",
       "      <td>Horror</td>\n",
       "      <td>4.0</td>\n",
       "      <td>6.0</td>\n",
       "      <td>3.0</td>\n",
       "      <td>11.0</td>\n",
       "      <td>9.0</td>\n",
       "      <td>11.0</td>\n",
       "      <td>11.0</td>\n",
       "      <td>39.0</td>\n",
       "      <td>46.0</td>\n",
       "      <td>29.0</td>\n",
       "      <td>24.0</td>\n",
       "      <td>27.0</td>\n",
       "      <td>23.0</td>\n",
       "      <td>37.0</td>\n",
       "      <td>42.0</td>\n",
       "      <td>44.0</td>\n",
       "    </tr>\n",
       "    <tr>\n",
       "      <td>History</td>\n",
       "      <td>3.0</td>\n",
       "      <td>2.0</td>\n",
       "      <td>3.0</td>\n",
       "      <td>2.0</td>\n",
       "      <td>NaN</td>\n",
       "      <td>5.0</td>\n",
       "      <td>NaN</td>\n",
       "      <td>1.0</td>\n",
       "      <td>2.0</td>\n",
       "      <td>3.0</td>\n",
       "      <td>NaN</td>\n",
       "      <td>3.0</td>\n",
       "      <td>2.0</td>\n",
       "      <td>2.0</td>\n",
       "      <td>2.0</td>\n",
       "      <td>NaN</td>\n",
       "    </tr>\n",
       "    <tr>\n",
       "      <td>Music</td>\n",
       "      <td>20.0</td>\n",
       "      <td>19.0</td>\n",
       "      <td>11.0</td>\n",
       "      <td>21.0</td>\n",
       "      <td>20.0</td>\n",
       "      <td>24.0</td>\n",
       "      <td>25.0</td>\n",
       "      <td>16.0</td>\n",
       "      <td>24.0</td>\n",
       "      <td>23.0</td>\n",
       "      <td>24.0</td>\n",
       "      <td>15.0</td>\n",
       "      <td>15.0</td>\n",
       "      <td>31.0</td>\n",
       "      <td>40.0</td>\n",
       "      <td>48.0</td>\n",
       "    </tr>\n",
       "    <tr>\n",
       "      <td>Family</td>\n",
       "      <td>6.0</td>\n",
       "      <td>11.0</td>\n",
       "      <td>4.0</td>\n",
       "      <td>15.0</td>\n",
       "      <td>15.0</td>\n",
       "      <td>20.0</td>\n",
       "      <td>15.0</td>\n",
       "      <td>19.0</td>\n",
       "      <td>17.0</td>\n",
       "      <td>15.0</td>\n",
       "      <td>18.0</td>\n",
       "      <td>11.0</td>\n",
       "      <td>17.0</td>\n",
       "      <td>14.0</td>\n",
       "      <td>14.0</td>\n",
       "      <td>10.0</td>\n",
       "    </tr>\n",
       "    <tr>\n",
       "      <td>War</td>\n",
       "      <td>3.0</td>\n",
       "      <td>2.0</td>\n",
       "      <td>4.0</td>\n",
       "      <td>6.0</td>\n",
       "      <td>4.0</td>\n",
       "      <td>8.0</td>\n",
       "      <td>3.0</td>\n",
       "      <td>3.0</td>\n",
       "      <td>5.0</td>\n",
       "      <td>7.0</td>\n",
       "      <td>4.0</td>\n",
       "      <td>10.0</td>\n",
       "      <td>3.0</td>\n",
       "      <td>5.0</td>\n",
       "      <td>2.0</td>\n",
       "      <td>6.0</td>\n",
       "    </tr>\n",
       "    <tr>\n",
       "      <td>Mystery</td>\n",
       "      <td>5.0</td>\n",
       "      <td>2.0</td>\n",
       "      <td>9.0</td>\n",
       "      <td>5.0</td>\n",
       "      <td>7.0</td>\n",
       "      <td>6.0</td>\n",
       "      <td>5.0</td>\n",
       "      <td>5.0</td>\n",
       "      <td>11.0</td>\n",
       "      <td>8.0</td>\n",
       "      <td>6.0</td>\n",
       "      <td>5.0</td>\n",
       "      <td>8.0</td>\n",
       "      <td>6.0</td>\n",
       "      <td>3.0</td>\n",
       "      <td>12.0</td>\n",
       "    </tr>\n",
       "  </tbody>\n",
       "</table>\n",
       "</div>"
      ],
      "text/plain": [
       "startYear     1950   1951   1952   1953   1954   1955   1956   1957   1958  \\\n",
       "Drama        313.0  335.0  292.0  345.0  384.0  376.0  413.0  472.0  460.0   \n",
       "Comedy       249.0  277.0  311.0  319.0  308.0  328.0  335.0  355.0  387.0   \n",
       "Action       126.0   84.0   94.0   85.0   74.0   66.0   70.0   95.0   68.0   \n",
       "Documentary   19.0   22.0   18.0   23.0   27.0   22.0   23.0   19.0   19.0   \n",
       "Biography     16.0   17.0   31.0   27.0   23.0   30.0   20.0   28.0   19.0   \n",
       "Crime        134.0  109.0   90.0   93.0  108.0  119.0  115.0  144.0  123.0   \n",
       "Adventure     63.0   69.0   75.0   89.0  108.0   98.0   80.0   77.0   96.0   \n",
       "Western       26.0   48.0   47.0   45.0   26.0   27.0   31.0   34.0   33.0   \n",
       "Fantasy        3.0    2.0    1.0    2.0    4.0    6.0    5.0    8.0    3.0   \n",
       "Musical       18.0   15.0   10.0   18.0   18.0   18.0   19.0   12.0   20.0   \n",
       "Sci-Fi         3.0    1.0    2.0    4.0    4.0    2.0   10.0    4.0    8.0   \n",
       "Romance       10.0    5.0    3.0   11.0   17.0   14.0   19.0   18.0   15.0   \n",
       "Thriller       1.0    3.0    6.0    2.0    2.0    2.0    5.0    8.0    3.0   \n",
       "Animation      3.0    2.0    3.0    4.0    2.0    4.0    6.0    3.0    3.0   \n",
       "Film-Noir      2.0    2.0    1.0    1.0    NaN    2.0    1.0    NaN    NaN   \n",
       "Horror         4.0    6.0    3.0   11.0    9.0   11.0   11.0   39.0   46.0   \n",
       "History        3.0    2.0    3.0    2.0    NaN    5.0    NaN    1.0    2.0   \n",
       "Music         20.0   19.0   11.0   21.0   20.0   24.0   25.0   16.0   24.0   \n",
       "Family         6.0   11.0    4.0   15.0   15.0   20.0   15.0   19.0   17.0   \n",
       "War            3.0    2.0    4.0    6.0    4.0    8.0    3.0    3.0    5.0   \n",
       "Mystery        5.0    2.0    9.0    5.0    7.0    6.0    5.0    5.0   11.0   \n",
       "\n",
       "startYear     1959   1960   1961   1962   1963   1964   1965  \n",
       "Drama        472.0  491.0  558.0  539.0  522.0  573.0  609.0  \n",
       "Comedy       391.0  415.0  412.0  446.0  444.0  483.0  440.0  \n",
       "Action        78.0   93.0   87.0  102.0   98.0  128.0  131.0  \n",
       "Documentary   28.0   30.0   40.0   43.0   62.0   47.0   60.0  \n",
       "Biography     21.0   25.0   22.0   19.0   15.0   17.0   27.0  \n",
       "Crime        116.0  152.0  119.0  107.0  102.0  115.0   75.0  \n",
       "Adventure     90.0   70.0  105.0  111.0   97.0  116.0  134.0  \n",
       "Western       18.0   12.0   14.0   10.0   11.0   35.0   45.0  \n",
       "Fantasy        5.0    7.0    8.0    5.0    8.0   11.0   13.0  \n",
       "Musical       21.0   18.0    8.0    9.0   13.0   25.0   24.0  \n",
       "Sci-Fi         7.0    5.0    2.0    7.0    6.0    2.0   13.0  \n",
       "Romance       20.0   10.0   25.0   26.0   11.0   21.0   27.0  \n",
       "Thriller       9.0    7.0   11.0    9.0   14.0   11.0   10.0  \n",
       "Animation      5.0    3.0    6.0   12.0    2.0    5.0   10.0  \n",
       "Film-Noir      NaN    NaN    NaN    NaN    NaN    NaN    NaN  \n",
       "Horror        29.0   24.0   27.0   23.0   37.0   42.0   44.0  \n",
       "History        3.0    NaN    3.0    2.0    2.0    2.0    NaN  \n",
       "Music         23.0   24.0   15.0   15.0   31.0   40.0   48.0  \n",
       "Family        15.0   18.0   11.0   17.0   14.0   14.0   10.0  \n",
       "War            7.0    4.0   10.0    3.0    5.0    2.0    6.0  \n",
       "Mystery        8.0    6.0    5.0    8.0    6.0    3.0   12.0  "
      ]
     },
     "execution_count": 15,
     "metadata": {},
     "output_type": "execute_result"
    }
   ],
   "source": [
    "GY.head(16).T"
   ]
  },
  {
   "cell_type": "markdown",
   "metadata": {},
   "source": [
    "#### Выберем наиболее интересные жанры и построим график количества выпущенных фильмов по годам"
   ]
  },
  {
   "cell_type": "code",
   "execution_count": 16,
   "metadata": {},
   "outputs": [],
   "source": [
    "SG = ['Comedy', 'Action','Crime','Music','Horror','Adventure','Biography','Thriller', 'Animation','Romance']"
   ]
  },
  {
   "cell_type": "code",
   "execution_count": 17,
   "metadata": {},
   "outputs": [
    {
     "data": {
      "image/png": "[encoded data removed]",
      "text/plain": [
       "<Figure size 1152x648 with 1 Axes>"
      ]
     },
     "metadata": {
      "needs_background": "light"
     },
     "output_type": "display_data"
    }
   ],
   "source": [
    "fig, ax = plt.subplots()\n",
    "#ax.plot(GY)\n",
    "ax.plot(GY.loc[:,SG])\n",
    "#plt.legend(all_genres[0:21])\n",
    "plt.legend(SG)\n",
    "plt.yscale(value= 'linear')\n",
    "plt.ylabel('Количество фильмов', rotation = 'vertical')\n",
    "plt.xlabel('Год')\n",
    "ax.xaxis.set_major_locator(ticker.MultipleLocator(5))\n",
    "ax.yaxis.set_major_locator(ticker.MultipleLocator(250))\n",
    "ax.grid()\n",
    "fig.set_figwidth(16)\n",
    "fig.set_figheight(9)\n",
    "plt.show()"
   ]
  },
  {
   "cell_type": "markdown",
   "metadata": {},
   "source": [
    "##### Как видно из графика, после 1995 года резко возросло число Комедий и они лидируют с большим отрывом. На 2-е место по числу выпущенных фильмов вышли Боевики."
   ]
  },
  {
   "cell_type": "code",
   "execution_count": 18,
   "metadata": {},
   "outputs": [],
   "source": [
    "dfs = df.loc[df['gen1'].isin(SG)]"
   ]
  },
  {
   "cell_type": "code",
   "execution_count": 19,
   "metadata": {},
   "outputs": [
    {
     "data": {
      "text/html": [
       "<div>\n",
       "<style scoped>\n",
       "    .dataframe tbody tr th:only-of-type {\n",
       "        vertical-align: middle;\n",
       "    }\n",
       "\n",
       "    .dataframe tbody tr th {\n",
       "        vertical-align: top;\n",
       "    }\n",
       "\n",
       "    .dataframe thead th {\n",
       "        text-align: right;\n",
       "    }\n",
       "</style>\n",
       "<table border=\"1\" class=\"dataframe\">\n",
       "  <thead>\n",
       "    <tr style=\"text-align: right;\">\n",
       "      <th></th>\n",
       "      <th>tconst</th>\n",
       "      <th>titleType</th>\n",
       "      <th>primaryTitle</th>\n",
       "      <th>startYear</th>\n",
       "      <th>genres</th>\n",
       "      <th>averageRating</th>\n",
       "      <th>numVotes</th>\n",
       "      <th>gen1</th>\n",
       "      <th>gen2</th>\n",
       "      <th>gen3</th>\n",
       "    </tr>\n",
       "  </thead>\n",
       "  <tbody>\n",
       "    <tr>\n",
       "      <td>1</td>\n",
       "      <td>tt0016906</td>\n",
       "      <td>movie</td>\n",
       "      <td>Frivolinas</td>\n",
       "      <td>2014</td>\n",
       "      <td>Comedy,Musical</td>\n",
       "      <td>5.6</td>\n",
       "      <td>14.0</td>\n",
       "      <td>Comedy</td>\n",
       "      <td>Musical</td>\n",
       "      <td>NaN</td>\n",
       "    </tr>\n",
       "    <tr>\n",
       "      <td>2</td>\n",
       "      <td>tt0021617</td>\n",
       "      <td>movie</td>\n",
       "      <td>Arizona Territory</td>\n",
       "      <td>1950</td>\n",
       "      <td>Action,Adventure,Western</td>\n",
       "      <td>5.8</td>\n",
       "      <td>22.0</td>\n",
       "      <td>Action</td>\n",
       "      <td>Adventure</td>\n",
       "      <td>Western</td>\n",
       "    </tr>\n",
       "    <tr>\n",
       "      <td>6</td>\n",
       "      <td>tt0030998</td>\n",
       "      <td>movie</td>\n",
       "      <td>You're Only Young Twice</td>\n",
       "      <td>1952</td>\n",
       "      <td>Comedy</td>\n",
       "      <td>6.1</td>\n",
       "      <td>72.0</td>\n",
       "      <td>Comedy</td>\n",
       "      <td>NaN</td>\n",
       "      <td>NaN</td>\n",
       "    </tr>\n",
       "    <tr>\n",
       "      <td>7</td>\n",
       "      <td>tt0031458</td>\n",
       "      <td>movie</td>\n",
       "      <td>El huésped del sevillano</td>\n",
       "      <td>1970</td>\n",
       "      <td>Comedy</td>\n",
       "      <td>7.1</td>\n",
       "      <td>8.0</td>\n",
       "      <td>Comedy</td>\n",
       "      <td>NaN</td>\n",
       "      <td>NaN</td>\n",
       "    </tr>\n",
       "    <tr>\n",
       "      <td>8</td>\n",
       "      <td>tt0031603</td>\n",
       "      <td>movie</td>\n",
       "      <td>Made in Germany - Die dramatische Geschichte d...</td>\n",
       "      <td>1957</td>\n",
       "      <td>Biography,Drama</td>\n",
       "      <td>6.5</td>\n",
       "      <td>13.0</td>\n",
       "      <td>Biography</td>\n",
       "      <td>Drama</td>\n",
       "      <td>NaN</td>\n",
       "    </tr>\n",
       "  </tbody>\n",
       "</table>\n",
       "</div>"
      ],
      "text/plain": [
       "      tconst titleType                                       primaryTitle  \\\n",
       "1  tt0016906     movie                                         Frivolinas   \n",
       "2  tt0021617     movie                                  Arizona Territory   \n",
       "6  tt0030998     movie                            You're Only Young Twice   \n",
       "7  tt0031458     movie                           El huésped del sevillano   \n",
       "8  tt0031603     movie  Made in Germany - Die dramatische Geschichte d...   \n",
       "\n",
       "   startYear                    genres  averageRating  numVotes       gen1  \\\n",
       "1       2014            Comedy,Musical            5.6      14.0     Comedy   \n",
       "2       1950  Action,Adventure,Western            5.8      22.0     Action   \n",
       "6       1952                    Comedy            6.1      72.0     Comedy   \n",
       "7       1970                    Comedy            7.1       8.0     Comedy   \n",
       "8       1957           Biography,Drama            6.5      13.0  Biography   \n",
       "\n",
       "        gen2     gen3  \n",
       "1    Musical      NaN  \n",
       "2  Adventure  Western  \n",
       "6        NaN      NaN  \n",
       "7        NaN      NaN  \n",
       "8      Drama      NaN  "
      ]
     },
     "execution_count": 19,
     "metadata": {},
     "output_type": "execute_result"
    }
   ],
   "source": [
    "dfs.head()"
   ]
  },
  {
   "cell_type": "markdown",
   "metadata": {},
   "source": [
    "#### Построим график распределения значений среднего рейтинга фильмов от жанра"
   ]
  },
  {
   "cell_type": "code",
   "execution_count": 20,
   "metadata": {},
   "outputs": [
    {
     "data": {
      "image/png": "[encoded data removed]",
      "text/plain": [
       "<Figure size 1152x648 with 1 Axes>"
      ]
     },
     "metadata": {
      "needs_background": "light"
     },
     "output_type": "display_data"
    }
   ],
   "source": [
    "sns.set_palette(\"deep\")\n",
    "plt.figure(figsize=(16, 9))\n",
    "sns.boxplot(dfs['gen1'], dfs['averageRating'])\n",
    "plt.xlabel(\"Жанр\")\n",
    "plt.ylabel(\"Средний рейтинг\")\n",
    "plt.grid()\n",
    "plt.show()"
   ]
  },
  {
   "cell_type": "markdown",
   "metadata": {},
   "source": [
    "#### Как видно из графика, наибольшее среднее значение рейтинга имеют биографические (Biography) и музыкальные (Music) фильмы, а наименьшее - фильмы ужасов (Horror)"
   ]
  },
  {
   "cell_type": "markdown",
   "metadata": {},
   "source": [
    "#### Теперь построим график распределения плотности рейтингов для жанров Боевики, Биографические, Приключения, Детективы и Ужасы"
   ]
  },
  {
   "cell_type": "code",
   "execution_count": 21,
   "metadata": {},
   "outputs": [
    {
     "data": {
      "image/png": "[encoded data removed]",
      "text/plain": [
       "<Figure size 1280x800 with 1 Axes>"
      ]
     },
     "metadata": {
      "needs_background": "light"
     },
     "output_type": "display_data"
    }
   ],
   "source": [
    "sns.set_palette(\"bright\")\n",
    "plt.figure(figsize=(16,10), dpi= 80)\n",
    "sns.kdeplot(dfs.loc[dfs['gen1'] == 'Action', \"averageRating\"], shade=True, label=\"Action\", alpha=.5)\n",
    "sns.kdeplot(dfs.loc[dfs['gen1'] == 'Biography', \"averageRating\"], shade=True, label=\"Biography\", alpha=.5)\n",
    "sns.kdeplot(dfs.loc[dfs['gen1'] == 'Adventure', \"averageRating\"], shade=True, label=\"Adventure\", alpha=.6)\n",
    "sns.kdeplot(dfs.loc[dfs['gen1'] == 'Crime',  \"averageRating\"], shade=True, label=\"Crime\", alpha=.5)\n",
    "sns.kdeplot(dfs.loc[dfs['gen1'] == 'Horror',  \"averageRating\"], shade=True, label=\"Horror\", alpha=.5)\n",
    "plt.title('График плотности Рейтинга от Жанра фильма', fontsize=20)\n",
    "plt.legend()\n",
    "plt.show()"
   ]
  },
  {
   "cell_type": "markdown",
   "metadata": {},
   "source": [
    "#### Рассчитаем статистические значения для каждого жанра"
   ]
  },
  {
   "cell_type": "code",
   "execution_count": 22,
   "metadata": {},
   "outputs": [],
   "source": [
    "from scipy.stats import norm"
   ]
  },
  {
   "cell_type": "code",
   "execution_count": 23,
   "metadata": {},
   "outputs": [],
   "source": [
    "df_stat = pd.DataFrame(columns = ['genres', 'quant25', 'mean', 'mode', 'median','quant75','dispersion','sigma'])"
   ]
  },
  {
   "cell_type": "code",
   "execution_count": 24,
   "metadata": {},
   "outputs": [],
   "source": [
    "for i, g in enumerate(SG):\n",
    "    dft = dfs.loc[dfs['gen1'] == g, :]\n",
    "    dfg = dft.averageRating\n",
    "    st_mean = dfg.mean()          # Вычисление среднего\n",
    "    st_mode = dfg.mode()[0]       # Вычисление mode (наиболее распространенное значение. Если два, то первое)\n",
    "    st_medi = dfg.median()        # Вычисление медианы (центрального значения)\n",
    "    st_disp = np.var(dfg,ddof=1)  # Дисперсия\n",
    "    st_sigm = dfg.std(ddof=1)     # Среднеквадратичное отклонение\n",
    "    st_qn25 = norm.ppf(0.25,st_mean,st_sigm) # quantile 25%\n",
    "    st_qn75 = norm.ppf(0.75,st_mean,st_sigm) # quantile 75%\n",
    "    df_stat.loc[i] = [g, st_qn25, st_mean, st_mode, st_medi, st_qn75, st_disp, st_sigm]  "
   ]
  },
  {
   "cell_type": "code",
   "execution_count": 25,
   "metadata": {},
   "outputs": [
    {
     "data": {
      "text/html": [
       "<div>\n",
       "<style scoped>\n",
       "    .dataframe tbody tr th:only-of-type {\n",
       "        vertical-align: middle;\n",
       "    }\n",
       "\n",
       "    .dataframe tbody tr th {\n",
       "        vertical-align: top;\n",
       "    }\n",
       "\n",
       "    .dataframe thead th {\n",
       "        text-align: right;\n",
       "    }\n",
       "</style>\n",
       "<table border=\"1\" class=\"dataframe\">\n",
       "  <thead>\n",
       "    <tr style=\"text-align: right;\">\n",
       "      <th></th>\n",
       "      <th>genres</th>\n",
       "      <th>quant25</th>\n",
       "      <th>mean</th>\n",
       "      <th>mode</th>\n",
       "      <th>median</th>\n",
       "      <th>quant75</th>\n",
       "      <th>dispersion</th>\n",
       "      <th>sigma</th>\n",
       "    </tr>\n",
       "  </thead>\n",
       "  <tbody>\n",
       "    <tr>\n",
       "      <td>0</td>\n",
       "      <td>Comedy</td>\n",
       "      <td>5.094341</td>\n",
       "      <td>6.019236</td>\n",
       "      <td>6.2</td>\n",
       "      <td>6.1</td>\n",
       "      <td>6.944130</td>\n",
       "      <td>1.880329</td>\n",
       "      <td>1.371251</td>\n",
       "    </tr>\n",
       "    <tr>\n",
       "      <td>1</td>\n",
       "      <td>Action</td>\n",
       "      <td>4.754671</td>\n",
       "      <td>5.707162</td>\n",
       "      <td>6.2</td>\n",
       "      <td>5.8</td>\n",
       "      <td>6.659652</td>\n",
       "      <td>1.994209</td>\n",
       "      <td>1.412165</td>\n",
       "    </tr>\n",
       "    <tr>\n",
       "      <td>2</td>\n",
       "      <td>Crime</td>\n",
       "      <td>5.295198</td>\n",
       "      <td>6.116036</td>\n",
       "      <td>6.2</td>\n",
       "      <td>6.2</td>\n",
       "      <td>6.936874</td>\n",
       "      <td>1.481032</td>\n",
       "      <td>1.216977</td>\n",
       "    </tr>\n",
       "    <tr>\n",
       "      <td>3</td>\n",
       "      <td>Music</td>\n",
       "      <td>6.055278</td>\n",
       "      <td>6.963708</td>\n",
       "      <td>7.2</td>\n",
       "      <td>7.1</td>\n",
       "      <td>7.872139</td>\n",
       "      <td>1.813980</td>\n",
       "      <td>1.346841</td>\n",
       "    </tr>\n",
       "    <tr>\n",
       "      <td>4</td>\n",
       "      <td>Horror</td>\n",
       "      <td>3.876430</td>\n",
       "      <td>4.852240</td>\n",
       "      <td>5.6</td>\n",
       "      <td>4.8</td>\n",
       "      <td>5.828051</td>\n",
       "      <td>2.093053</td>\n",
       "      <td>1.446739</td>\n",
       "    </tr>\n",
       "    <tr>\n",
       "      <td>5</td>\n",
       "      <td>Adventure</td>\n",
       "      <td>5.191979</td>\n",
       "      <td>6.091829</td>\n",
       "      <td>6.1</td>\n",
       "      <td>6.2</td>\n",
       "      <td>6.991680</td>\n",
       "      <td>1.779877</td>\n",
       "      <td>1.334120</td>\n",
       "    </tr>\n",
       "    <tr>\n",
       "      <td>6</td>\n",
       "      <td>Biography</td>\n",
       "      <td>6.288221</td>\n",
       "      <td>7.009109</td>\n",
       "      <td>7.2</td>\n",
       "      <td>7.1</td>\n",
       "      <td>7.729996</td>\n",
       "      <td>1.142311</td>\n",
       "      <td>1.068790</td>\n",
       "    </tr>\n",
       "    <tr>\n",
       "      <td>7</td>\n",
       "      <td>Thriller</td>\n",
       "      <td>4.641011</td>\n",
       "      <td>5.531257</td>\n",
       "      <td>5.2</td>\n",
       "      <td>5.5</td>\n",
       "      <td>6.421503</td>\n",
       "      <td>1.742084</td>\n",
       "      <td>1.319880</td>\n",
       "    </tr>\n",
       "    <tr>\n",
       "      <td>8</td>\n",
       "      <td>Animation</td>\n",
       "      <td>5.642473</td>\n",
       "      <td>6.528989</td>\n",
       "      <td>7.0</td>\n",
       "      <td>6.7</td>\n",
       "      <td>7.415506</td>\n",
       "      <td>1.727520</td>\n",
       "      <td>1.314351</td>\n",
       "    </tr>\n",
       "    <tr>\n",
       "      <td>9</td>\n",
       "      <td>Romance</td>\n",
       "      <td>5.109656</td>\n",
       "      <td>5.968483</td>\n",
       "      <td>6.2</td>\n",
       "      <td>6.1</td>\n",
       "      <td>6.827310</td>\n",
       "      <td>1.621291</td>\n",
       "      <td>1.273299</td>\n",
       "    </tr>\n",
       "  </tbody>\n",
       "</table>\n",
       "</div>"
      ],
      "text/plain": [
       "      genres   quant25      mean  mode  median   quant75  dispersion     sigma\n",
       "0     Comedy  5.094341  6.019236   6.2     6.1  6.944130    1.880329  1.371251\n",
       "1     Action  4.754671  5.707162   6.2     5.8  6.659652    1.994209  1.412165\n",
       "2      Crime  5.295198  6.116036   6.2     6.2  6.936874    1.481032  1.216977\n",
       "3      Music  6.055278  6.963708   7.2     7.1  7.872139    1.813980  1.346841\n",
       "4     Horror  3.876430  4.852240   5.6     4.8  5.828051    2.093053  1.446739\n",
       "5  Adventure  5.191979  6.091829   6.1     6.2  6.991680    1.779877  1.334120\n",
       "6  Biography  6.288221  7.009109   7.2     7.1  7.729996    1.142311  1.068790\n",
       "7   Thriller  4.641011  5.531257   5.2     5.5  6.421503    1.742084  1.319880\n",
       "8  Animation  5.642473  6.528989   7.0     6.7  7.415506    1.727520  1.314351\n",
       "9    Romance  5.109656  5.968483   6.2     6.1  6.827310    1.621291  1.273299"
      ]
     },
     "execution_count": 25,
     "metadata": {},
     "output_type": "execute_result"
    }
   ],
   "source": [
    "df_stat"
   ]
  },
  {
   "cell_type": "markdown",
   "metadata": {},
   "source": [
    "#### Наиболее ближе к стандартному распределению - рейтинги фильмов жанра \"Crime\" и \"Adventure\""
   ]
  },
  {
   "cell_type": "code",
   "execution_count": 26,
   "metadata": {},
   "outputs": [
    {
     "data": {
      "text/html": [
       "<div>\n",
       "<style scoped>\n",
       "    .dataframe tbody tr th:only-of-type {\n",
       "        vertical-align: middle;\n",
       "    }\n",
       "\n",
       "    .dataframe tbody tr th {\n",
       "        vertical-align: top;\n",
       "    }\n",
       "\n",
       "    .dataframe thead th {\n",
       "        text-align: right;\n",
       "    }\n",
       "</style>\n",
       "<table border=\"1\" class=\"dataframe\">\n",
       "  <thead>\n",
       "    <tr style=\"text-align: right;\">\n",
       "      <th></th>\n",
       "      <th>tconst</th>\n",
       "      <th>titleType</th>\n",
       "      <th>primaryTitle</th>\n",
       "      <th>startYear</th>\n",
       "      <th>genres</th>\n",
       "      <th>averageRating</th>\n",
       "      <th>numVotes</th>\n",
       "      <th>gen1</th>\n",
       "      <th>gen2</th>\n",
       "      <th>gen3</th>\n",
       "    </tr>\n",
       "  </thead>\n",
       "  <tbody>\n",
       "    <tr>\n",
       "      <td>1</td>\n",
       "      <td>tt0016906</td>\n",
       "      <td>movie</td>\n",
       "      <td>Frivolinas</td>\n",
       "      <td>2014</td>\n",
       "      <td>Comedy,Musical</td>\n",
       "      <td>5.6</td>\n",
       "      <td>14.0</td>\n",
       "      <td>Comedy</td>\n",
       "      <td>Musical</td>\n",
       "      <td>NaN</td>\n",
       "    </tr>\n",
       "    <tr>\n",
       "      <td>2</td>\n",
       "      <td>tt0021617</td>\n",
       "      <td>movie</td>\n",
       "      <td>Arizona Territory</td>\n",
       "      <td>1950</td>\n",
       "      <td>Action,Adventure,Western</td>\n",
       "      <td>5.8</td>\n",
       "      <td>22.0</td>\n",
       "      <td>Action</td>\n",
       "      <td>Adventure</td>\n",
       "      <td>Western</td>\n",
       "    </tr>\n",
       "    <tr>\n",
       "      <td>6</td>\n",
       "      <td>tt0030998</td>\n",
       "      <td>movie</td>\n",
       "      <td>You're Only Young Twice</td>\n",
       "      <td>1952</td>\n",
       "      <td>Comedy</td>\n",
       "      <td>6.1</td>\n",
       "      <td>72.0</td>\n",
       "      <td>Comedy</td>\n",
       "      <td>NaN</td>\n",
       "      <td>NaN</td>\n",
       "    </tr>\n",
       "    <tr>\n",
       "      <td>7</td>\n",
       "      <td>tt0031458</td>\n",
       "      <td>movie</td>\n",
       "      <td>El huésped del sevillano</td>\n",
       "      <td>1970</td>\n",
       "      <td>Comedy</td>\n",
       "      <td>7.1</td>\n",
       "      <td>8.0</td>\n",
       "      <td>Comedy</td>\n",
       "      <td>NaN</td>\n",
       "      <td>NaN</td>\n",
       "    </tr>\n",
       "    <tr>\n",
       "      <td>8</td>\n",
       "      <td>tt0031603</td>\n",
       "      <td>movie</td>\n",
       "      <td>Made in Germany - Die dramatische Geschichte d...</td>\n",
       "      <td>1957</td>\n",
       "      <td>Biography,Drama</td>\n",
       "      <td>6.5</td>\n",
       "      <td>13.0</td>\n",
       "      <td>Biography</td>\n",
       "      <td>Drama</td>\n",
       "      <td>NaN</td>\n",
       "    </tr>\n",
       "  </tbody>\n",
       "</table>\n",
       "</div>"
      ],
      "text/plain": [
       "      tconst titleType                                       primaryTitle  \\\n",
       "1  tt0016906     movie                                         Frivolinas   \n",
       "2  tt0021617     movie                                  Arizona Territory   \n",
       "6  tt0030998     movie                            You're Only Young Twice   \n",
       "7  tt0031458     movie                           El huésped del sevillano   \n",
       "8  tt0031603     movie  Made in Germany - Die dramatische Geschichte d...   \n",
       "\n",
       "   startYear                    genres  averageRating  numVotes       gen1  \\\n",
       "1       2014            Comedy,Musical            5.6      14.0     Comedy   \n",
       "2       1950  Action,Adventure,Western            5.8      22.0     Action   \n",
       "6       1952                    Comedy            6.1      72.0     Comedy   \n",
       "7       1970                    Comedy            7.1       8.0     Comedy   \n",
       "8       1957           Biography,Drama            6.5      13.0  Biography   \n",
       "\n",
       "        gen2     gen3  \n",
       "1    Musical      NaN  \n",
       "2  Adventure  Western  \n",
       "6        NaN      NaN  \n",
       "7        NaN      NaN  \n",
       "8      Drama      NaN  "
      ]
     },
     "execution_count": 26,
     "metadata": {},
     "output_type": "execute_result"
    }
   ],
   "source": [
    "dfs.head()"
   ]
  },
  {
   "cell_type": "markdown",
   "metadata": {},
   "source": [
    "#### Преобразуем категориальные данные к числовым для проверки корреляции между признаками"
   ]
  },
  {
   "cell_type": "code",
   "execution_count": 27,
   "metadata": {},
   "outputs": [],
   "source": [
    "from sklearn.preprocessing import LabelEncoder"
   ]
  },
  {
   "cell_type": "code",
   "execution_count": 28,
   "metadata": {},
   "outputs": [
    {
     "name": "stdout",
     "output_type": "stream",
     "text": [
      "{0: 'Action', 1: 'Adventure', 2: 'Animation', 3: 'Biography', 4: 'Comedy', 5: 'Crime', 6: 'Horror', 7: 'Music', 8: 'Romance', 9: 'Thriller'}\n"
     ]
    },
    {
     "data": {
      "image/png": "[encoded data removed]",
      "text/plain": [
       "<Figure size 432x288 with 1 Axes>"
      ]
     },
     "metadata": {
      "needs_background": "light"
     },
     "output_type": "display_data"
    }
   ],
   "source": [
    "label_encoder = LabelEncoder()\n",
    "dfs['gen1k'] = label_encoder.fit_transform(dfs['gen1'])\n",
    "dfs['gen1k'].value_counts().plot.barh()\n",
    "print(dict(enumerate(label_encoder.classes_)))"
   ]
  },
  {
   "cell_type": "code",
   "execution_count": 29,
   "metadata": {},
   "outputs": [
    {
     "data": {
      "text/html": [
       "<div>\n",
       "<style scoped>\n",
       "    .dataframe tbody tr th:only-of-type {\n",
       "        vertical-align: middle;\n",
       "    }\n",
       "\n",
       "    .dataframe tbody tr th {\n",
       "        vertical-align: top;\n",
       "    }\n",
       "\n",
       "    .dataframe thead th {\n",
       "        text-align: right;\n",
       "    }\n",
       "</style>\n",
       "<table border=\"1\" class=\"dataframe\">\n",
       "  <thead>\n",
       "    <tr style=\"text-align: right;\">\n",
       "      <th></th>\n",
       "      <th>tconst</th>\n",
       "      <th>titleType</th>\n",
       "      <th>primaryTitle</th>\n",
       "      <th>startYear</th>\n",
       "      <th>genres</th>\n",
       "      <th>averageRating</th>\n",
       "      <th>numVotes</th>\n",
       "      <th>gen1</th>\n",
       "      <th>gen2</th>\n",
       "      <th>gen3</th>\n",
       "      <th>gen1k</th>\n",
       "    </tr>\n",
       "  </thead>\n",
       "  <tbody>\n",
       "    <tr>\n",
       "      <td>1</td>\n",
       "      <td>tt0016906</td>\n",
       "      <td>movie</td>\n",
       "      <td>Frivolinas</td>\n",
       "      <td>2014</td>\n",
       "      <td>Comedy,Musical</td>\n",
       "      <td>5.6</td>\n",
       "      <td>14.0</td>\n",
       "      <td>Comedy</td>\n",
       "      <td>Musical</td>\n",
       "      <td>NaN</td>\n",
       "      <td>4</td>\n",
       "    </tr>\n",
       "    <tr>\n",
       "      <td>2</td>\n",
       "      <td>tt0021617</td>\n",
       "      <td>movie</td>\n",
       "      <td>Arizona Territory</td>\n",
       "      <td>1950</td>\n",
       "      <td>Action,Adventure,Western</td>\n",
       "      <td>5.8</td>\n",
       "      <td>22.0</td>\n",
       "      <td>Action</td>\n",
       "      <td>Adventure</td>\n",
       "      <td>Western</td>\n",
       "      <td>0</td>\n",
       "    </tr>\n",
       "    <tr>\n",
       "      <td>6</td>\n",
       "      <td>tt0030998</td>\n",
       "      <td>movie</td>\n",
       "      <td>You're Only Young Twice</td>\n",
       "      <td>1952</td>\n",
       "      <td>Comedy</td>\n",
       "      <td>6.1</td>\n",
       "      <td>72.0</td>\n",
       "      <td>Comedy</td>\n",
       "      <td>NaN</td>\n",
       "      <td>NaN</td>\n",
       "      <td>4</td>\n",
       "    </tr>\n",
       "    <tr>\n",
       "      <td>7</td>\n",
       "      <td>tt0031458</td>\n",
       "      <td>movie</td>\n",
       "      <td>El huésped del sevillano</td>\n",
       "      <td>1970</td>\n",
       "      <td>Comedy</td>\n",
       "      <td>7.1</td>\n",
       "      <td>8.0</td>\n",
       "      <td>Comedy</td>\n",
       "      <td>NaN</td>\n",
       "      <td>NaN</td>\n",
       "      <td>4</td>\n",
       "    </tr>\n",
       "    <tr>\n",
       "      <td>8</td>\n",
       "      <td>tt0031603</td>\n",
       "      <td>movie</td>\n",
       "      <td>Made in Germany - Die dramatische Geschichte d...</td>\n",
       "      <td>1957</td>\n",
       "      <td>Biography,Drama</td>\n",
       "      <td>6.5</td>\n",
       "      <td>13.0</td>\n",
       "      <td>Biography</td>\n",
       "      <td>Drama</td>\n",
       "      <td>NaN</td>\n",
       "      <td>3</td>\n",
       "    </tr>\n",
       "  </tbody>\n",
       "</table>\n",
       "</div>"
      ],
      "text/plain": [
       "      tconst titleType                                       primaryTitle  \\\n",
       "1  tt0016906     movie                                         Frivolinas   \n",
       "2  tt0021617     movie                                  Arizona Territory   \n",
       "6  tt0030998     movie                            You're Only Young Twice   \n",
       "7  tt0031458     movie                           El huésped del sevillano   \n",
       "8  tt0031603     movie  Made in Germany - Die dramatische Geschichte d...   \n",
       "\n",
       "   startYear                    genres  averageRating  numVotes       gen1  \\\n",
       "1       2014            Comedy,Musical            5.6      14.0     Comedy   \n",
       "2       1950  Action,Adventure,Western            5.8      22.0     Action   \n",
       "6       1952                    Comedy            6.1      72.0     Comedy   \n",
       "7       1970                    Comedy            7.1       8.0     Comedy   \n",
       "8       1957           Biography,Drama            6.5      13.0  Biography   \n",
       "\n",
       "        gen2     gen3  gen1k  \n",
       "1    Musical      NaN      4  \n",
       "2  Adventure  Western      0  \n",
       "6        NaN      NaN      4  \n",
       "7        NaN      NaN      4  \n",
       "8      Drama      NaN      3  "
      ]
     },
     "execution_count": 29,
     "metadata": {},
     "output_type": "execute_result"
    }
   ],
   "source": [
    "dfs.head()"
   ]
  },
  {
   "cell_type": "code",
   "execution_count": 30,
   "metadata": {},
   "outputs": [],
   "source": [
    "corr_f = dfs.corr()['averageRating']"
   ]
  },
  {
   "cell_type": "code",
   "execution_count": 31,
   "metadata": {},
   "outputs": [
    {
     "data": {
      "text/plain": [
       "averageRating    1.000000\n",
       "numVotes         0.077463\n",
       "gen1k            0.030522\n",
       "startYear       -0.017837\n",
       "Name: averageRating, dtype: float64"
      ]
     },
     "execution_count": 31,
     "metadata": {},
     "output_type": "execute_result"
    }
   ],
   "source": [
    "corr_fs = corr_f.sort_values(ascending=False)\n",
    "corr_fs"
   ]
  },
  {
   "cell_type": "markdown",
   "metadata": {},
   "source": [
    "#### Видна слабая линейная зависимость Рейтинга от Количества голосов и Жанра фильма"
   ]
  },
  {
   "cell_type": "code",
   "execution_count": 32,
   "metadata": {},
   "outputs": [
    {
     "data": {
      "image/png": "[encoded data removed]",
      "text/plain": [
       "<Figure size 864x576 with 1 Axes>"
      ]
     },
     "metadata": {
      "needs_background": "light"
     },
     "output_type": "display_data"
    }
   ],
   "source": [
    "plt.figure(figsize=(12,8))\n",
    "plt.scatter(dfs['averageRating'], dfs['numVotes'])\n",
    "plt.xlabel('Рейтинг')\n",
    "plt.ylabel('Кол-во голосов')\n",
    "plt.show()"
   ]
  },
  {
   "cell_type": "markdown",
   "metadata": {},
   "source": [
    "#### Проведём однофакторный дисперсионный анализ для определения того, есть ли различия среднего рейтинга среди групп фильмов жанров 'Action', 'Biography' и 'Horror'"
   ]
  },
  {
   "cell_type": "code",
   "execution_count": 33,
   "metadata": {},
   "outputs": [],
   "source": [
    "y1 = np.array(dfs.loc[dfs['gen1'] == 'Action',   'averageRating'])\n",
    "y2 = np.array(dfs.loc[dfs['gen1'] == 'Biography','averageRating'])\n",
    "y3 = np.array(dfs.loc[dfs['gen1'] == 'Horror',   'averageRating'])"
   ]
  },
  {
   "cell_type": "code",
   "execution_count": 34,
   "metadata": {},
   "outputs": [
    {
     "name": "stdout",
     "output_type": "stream",
     "text": [
      "Всего фильмов в трёх группах: 48648\n"
     ]
    }
   ],
   "source": [
    "# Количество значений в группах\n",
    "n1 = len(y1)\n",
    "n2 = len(y2)\n",
    "n3 = len(y3)\n",
    "n = n1 + n2 + n3\n",
    "print(f'Всего фильмов в трёх группах: {n}')"
   ]
  },
  {
   "cell_type": "code",
   "execution_count": 35,
   "metadata": {},
   "outputs": [],
   "source": [
    "# Количество групп\n",
    "k = 3"
   ]
  },
  {
   "cell_type": "markdown",
   "metadata": {},
   "source": [
    "#### Найдем средний рейтинг для каждой группы фильмов"
   ]
  },
  {
   "cell_type": "code",
   "execution_count": 36,
   "metadata": {},
   "outputs": [
    {
     "name": "stdout",
     "output_type": "stream",
     "text": [
      "Средний рейтинг фильмов\n",
      "Action   : 5.707,\n",
      "Biography: 7.009,\n",
      "Horror   : 4.852\n"
     ]
    }
   ],
   "source": [
    "y1_mean = np.mean(y1)\n",
    "y2_mean = np.mean(y2)\n",
    "y3_mean = np.mean(y3)\n",
    "print(f'Средний рейтинг фильмов\\nAction   : {y1_mean:.4},\\nBiography: {y2_mean:.4},\\nHorror   : {y3_mean:.4}')"
   ]
  },
  {
   "cell_type": "markdown",
   "metadata": {},
   "source": [
    "#### Средний рейтинг по группам фильмов отличается. Установим, что это отличие статистически значимо."
   ]
  },
  {
   "cell_type": "code",
   "execution_count": 37,
   "metadata": {},
   "outputs": [
    {
     "name": "stdout",
     "output_type": "stream",
     "text": [
      "Среднее значение рейтинга по всем группам: 5.73149\n"
     ]
    }
   ],
   "source": [
    "y_all = np.concatenate([y1, y2, y3])\n",
    "y_mean = np.mean(y_all)\n",
    "print(f'Среднее значение рейтинга по всем группам: {y_mean:.6}')"
   ]
  },
  {
   "cell_type": "markdown",
   "metadata": {},
   "source": [
    "#### Найдем $S^2$ — сумму квадратов отклонений наблюдений от общего среднего:"
   ]
  },
  {
   "cell_type": "code",
   "execution_count": 38,
   "metadata": {},
   "outputs": [
    {
     "data": {
      "text/plain": [
       "113987.78757030095"
      ]
     },
     "execution_count": 38,
     "metadata": {},
     "output_type": "execute_result"
    }
   ],
   "source": [
    "s2 = np.sum((y_all - y_mean)**2)\n",
    "s2"
   ]
  },
  {
   "cell_type": "markdown",
   "metadata": {},
   "source": [
    "#### Найдем $S^2_F$ - сумму квадратов отклонений средних групповых значений от общего среднего:"
   ]
  },
  {
   "cell_type": "code",
   "execution_count": 39,
   "metadata": {},
   "outputs": [
    {
     "data": {
      "text/plain": [
       "23159.952460014378"
      ]
     },
     "execution_count": 39,
     "metadata": {},
     "output_type": "execute_result"
    }
   ],
   "source": [
    "s2_f = ((y1_mean - y_mean)**2) * n1 + ((y2_mean - y_mean)**2) * n2 + ((y3_mean - y_mean)**2) * n3\n",
    "s2_f"
   ]
  },
  {
   "cell_type": "markdown",
   "metadata": {},
   "source": [
    "#### Найдем  $S^2_{ост}$  — остаточную сумму квадратов отклонений:"
   ]
  },
  {
   "cell_type": "code",
   "execution_count": 40,
   "metadata": {},
   "outputs": [
    {
     "data": {
      "text/plain": [
       "90827.83511028654"
      ]
     },
     "execution_count": 40,
     "metadata": {},
     "output_type": "execute_result"
    }
   ],
   "source": [
    "s2_residual = np.sum((y1 - y1_mean)**2) + np.sum((y2 - y2_mean)**2) + np.sum((y3 - y3_mean)**2)\n",
    "s2_residual"
   ]
  },
  {
   "cell_type": "markdown",
   "metadata": {},
   "source": [
    "#### Проверим равенство $S^2 = S_F^2 + S_{ост}^2$:"
   ]
  },
  {
   "cell_type": "code",
   "execution_count": 41,
   "metadata": {},
   "outputs": [
    {
     "name": "stdout",
     "output_type": "stream",
     "text": [
      "113987.78757030095\n",
      "113987.78757030092\n"
     ]
    }
   ],
   "source": [
    "print(s2)\n",
    "print(s2_f + s2_residual)"
   ]
  },
  {
   "cell_type": "code",
   "execution_count": 42,
   "metadata": {},
   "outputs": [
    {
     "data": {
      "text/plain": [
       "2.3431617072029303"
      ]
     },
     "execution_count": 42,
     "metadata": {},
     "output_type": "execute_result"
    }
   ],
   "source": [
    "# Общая дисперсия\n",
    "sigma2_general = s2 / (n - 1)\n",
    "sigma2_general"
   ]
  },
  {
   "cell_type": "code",
   "execution_count": 43,
   "metadata": {},
   "outputs": [
    {
     "data": {
      "text/plain": [
       "11579.976230007189"
      ]
     },
     "execution_count": 43,
     "metadata": {},
     "output_type": "execute_result"
    }
   ],
   "source": [
    "# Факторная дисперсия\n",
    "sigma2_f = s2_f / (k - 1)\n",
    "sigma2_f"
   ]
  },
  {
   "cell_type": "code",
   "execution_count": 44,
   "metadata": {},
   "outputs": [
    {
     "data": {
      "text/plain": [
       "1.8671566473488856"
      ]
     },
     "execution_count": 44,
     "metadata": {},
     "output_type": "execute_result"
    }
   ],
   "source": [
    "# Остаточная дисперсия\n",
    "sigma2_residual = s2_residual / (n - k)\n",
    "sigma2_residual"
   ]
  },
  {
   "cell_type": "markdown",
   "metadata": {},
   "source": [
    "#### Вычислим $F_H$:"
   ]
  },
  {
   "cell_type": "code",
   "execution_count": 45,
   "metadata": {},
   "outputs": [
    {
     "data": {
      "text/plain": [
       "6201.930752006917"
      ]
     },
     "execution_count": 45,
     "metadata": {},
     "output_type": "execute_result"
    }
   ],
   "source": [
    "F_h = sigma2_f / sigma2_residual\n",
    "F_h"
   ]
  },
  {
   "cell_type": "markdown",
   "metadata": {},
   "source": [
    "Найдем значение $F_{крит}$ в таблице критических точек распределения Фишера-Снедекора для заданного уровня значимости $\\alpha = 0.05$ и двух степеней свободы: \n",
    "\n",
    "$df_{межд} = k - 1 = 3 - 1 = 2$   \n",
    "и $df_{внутр} = n - k = 48648 - 3 = 48645$."
   ]
  },
  {
   "cell_type": "markdown",
   "metadata": {},
   "source": [
    "#### Для данных значений $F_{крит} = 2.99$. Так как $F_H (6201.93) > F_{крит} (2.99)$,     \n",
    "#### Различие среднего рейтинга в трех группах фильмов статистически значимо."
   ]
  },
  {
   "cell_type": "code",
   "execution_count": null,
   "metadata": {},
   "outputs": [],
   "source": []
  }
 ],
 "metadata": {
  "kernelspec": {
   "display_name": "Python 3",
   "language": "python",
   "name": "python3"
  },
  "language_info": {
   "codemirror_mode": {
    "name": "ipython",
    "version": 3
   },
   "file_extension": ".py",
   "mimetype": "text/x-python",
   "name": "python",
   "nbconvert_exporter": "python",
   "pygments_lexer": "ipython3",
   "version": "3.7.4"
  }
 },
 "nbformat": 4,
 "nbformat_minor": 2
}
