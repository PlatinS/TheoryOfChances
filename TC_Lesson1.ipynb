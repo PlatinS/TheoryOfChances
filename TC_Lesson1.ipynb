{
 "cells": [
  {
   "cell_type": "code",
   "execution_count": 1,
   "metadata": {},
   "outputs": [],
   "source": [
    "from scipy.special import comb"
   ]
  },
  {
   "cell_type": "markdown",
   "metadata": {},
   "source": [
    "#### 1.1 Из колоды в 52 карты извлекаются случайным образом 4 карты.  Найти вероятность того, что все карты – крести."
   ]
  },
  {
   "cell_type": "markdown",
   "metadata": {},
   "source": [
    "Всего крестей 52/4=13. Благоприятное событие - выбрать 4 карты крести из 13: $\\tt C^4_{13} =\\dfrac{13!}{4! \\cdot (13-4)!}$   \n",
    "Всего все возможных исходов:  $\\tt C^4_{52} =\\dfrac{52!}{4! \\cdot (52-4)!}$"
   ]
  },
  {
   "cell_type": "code",
   "execution_count": 2,
   "metadata": {},
   "outputs": [],
   "source": [
    "P = comb(13,4)/comb(52,4)"
   ]
  },
  {
   "cell_type": "code",
   "execution_count": 3,
   "metadata": {},
   "outputs": [
    {
     "name": "stdout",
     "output_type": "stream",
     "text": [
      "Вероятность выбрать все 4 карты крести: 0.0026410564225690276\n"
     ]
    }
   ],
   "source": [
    "print(f'Вероятность выбрать все 4 карты крести: {P}')"
   ]
  },
  {
   "cell_type": "markdown",
   "metadata": {},
   "source": [
    "#### 1.2 Из колоды в 52 карты извлекаются случайным образом 4 карты. Найти вероятность, что среди 4-х карт окажется хотя бы один туз."
   ]
  },
  {
   "cell_type": "markdown",
   "metadata": {},
   "source": [
    "Подсчитаем обратное (неблагоприятное) событие. Выбрали 4 карты и все не тузы: $k = \\tt C^4_{48} =\\dfrac{48!}{4! \\cdot (48-4)!}$   \n",
    "Общее число исходов:  $n = \\tt C^4_{52} =\\dfrac{52!}{4! \\cdot (52-4)!}$"
   ]
  },
  {
   "cell_type": "markdown",
   "metadata": {},
   "source": [
    "Вероятность вынуть не туз: P1 = k / n, а вероятность выбрать хотя бы один туз: P = 1 - P1"
   ]
  },
  {
   "cell_type": "code",
   "execution_count": 4,
   "metadata": {},
   "outputs": [],
   "source": [
    "P = 1 - (comb(48,4)/comb(52,4))"
   ]
  },
  {
   "cell_type": "code",
   "execution_count": 5,
   "metadata": {},
   "outputs": [
    {
     "name": "stdout",
     "output_type": "stream",
     "text": [
      "Вероятность выбрать хотя бы один туз в 4 картах: 0.2812632745405854\n"
     ]
    }
   ],
   "source": [
    "print(f'Вероятность выбрать хотя бы один туз в 4 картах: {P}')"
   ]
  },
  {
   "cell_type": "markdown",
   "metadata": {},
   "source": [
    "#### 2.\tНа входной двери подъезда установлен кодовый замок, содержащий десять кнопок с цифрами от 0 до 9. Код содержит три цифры, которые нужно нажать одновременно. Какова вероятность того, что человек, не знающий код, откроет дверь с первой попытки?"
   ]
  },
  {
   "cell_type": "markdown",
   "metadata": {},
   "source": [
    "Общее число исходов:  $n = \\tt C^3_{10} =\\dfrac{10!}{3! \\cdot (10-3)!}$"
   ]
  },
  {
   "cell_type": "code",
   "execution_count": 7,
   "metadata": {},
   "outputs": [],
   "source": [
    "P = 1/comb(10,3)"
   ]
  },
  {
   "cell_type": "code",
   "execution_count": 8,
   "metadata": {},
   "outputs": [
    {
     "name": "stdout",
     "output_type": "stream",
     "text": [
      "Вероятность открыть дверь с первой попытки: 0.008333333333333333\n"
     ]
    }
   ],
   "source": [
    "print(f'Вероятность открыть дверь с первой попытки: {P}')"
   ]
  },
  {
   "cell_type": "markdown",
   "metadata": {},
   "source": [
    "#### 3.\tВ ящике имеется 15 деталей, из которых 9 окрашены. Рабочий случайным образом извлекает 3 детали. Какова вероятность того, что все извлеченные детали окрашены?"
   ]
  },
  {
   "cell_type": "markdown",
   "metadata": {},
   "source": [
    "Благоприятное событие - 3 из 9 окрашенных: $m = \\tt C^3_{9} =\\dfrac{9!}{3! \\cdot (9-3)!}$   \n",
    "Общее число исходов:  $n = \\tt C^3_{15} =\\dfrac{15!}{3! \\cdot (15-3)!}$"
   ]
  },
  {
   "cell_type": "code",
   "execution_count": 9,
   "metadata": {},
   "outputs": [],
   "source": [
    "P = comb(9,3)/comb(15,3)"
   ]
  },
  {
   "cell_type": "code",
   "execution_count": 10,
   "metadata": {},
   "outputs": [
    {
     "name": "stdout",
     "output_type": "stream",
     "text": [
      "Вероятность, что все извлечённые детали окрашены: 0.18461538461538463\n"
     ]
    }
   ],
   "source": [
    "print(f'Вероятность, что все извлечённые детали окрашены: {P}')"
   ]
  },
  {
   "cell_type": "markdown",
   "metadata": {},
   "source": [
    "#### 4.\tВ лотерее 100 билетов. Из них 2 выигрышных. Какова вероятность того, что 2 приобретенных билета окажутся выигрышными?"
   ]
  },
  {
   "cell_type": "markdown",
   "metadata": {},
   "source": [
    "Вероятность выбрать 2 выигрышных билета из 2-х выигрышных: $m = \\tt C^2_{2} =\\dfrac{2!}{2! \\cdot (2-2)!}$   \n",
    "Вероятность для 98 оставшихся билетов: $k = \\tt C^0_{98} =\\dfrac{0!}{0! \\cdot (98-0)!}$   \n",
    "Общее число исходов: $n = \\tt C^2_{100} =\\dfrac{2!}{2! \\cdot (100-2)!}$"
   ]
  },
  {
   "cell_type": "code",
   "execution_count": 14,
   "metadata": {},
   "outputs": [],
   "source": [
    "P = (comb(2,2)*comb(98,0)) / comb(100,2)"
   ]
  },
  {
   "cell_type": "code",
   "execution_count": 15,
   "metadata": {},
   "outputs": [
    {
     "name": "stdout",
     "output_type": "stream",
     "text": [
      "Вероятность выбрать 2 выигрышных билета: 0.00020202020202020202\n"
     ]
    }
   ],
   "source": [
    "print(f'Вероятность выбрать 2 выигрышных билета: {P}')"
   ]
  },
  {
   "cell_type": "code",
   "execution_count": null,
   "metadata": {},
   "outputs": [],
   "source": []
  }
 ],
 "metadata": {
  "kernelspec": {
   "display_name": "Python 3",
   "language": "python",
   "name": "python3"
  },
  "language_info": {
   "codemirror_mode": {
    "name": "ipython",
    "version": 3
   },
   "file_extension": ".py",
   "mimetype": "text/x-python",
   "name": "python",
   "nbconvert_exporter": "python",
   "pygments_lexer": "ipython3",
   "version": "3.7.4"
  }
 },
 "nbformat": 4,
 "nbformat_minor": 2
}
